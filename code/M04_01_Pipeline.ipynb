{
 "cells": [
  {
   "attachments": {},
   "cell_type": "markdown",
   "metadata": {},
   "source": [
    "# NLP and the Pipeline\n",
    "\n",
    "```yaml\n",
    "Course:   DS 5001\n",
    "Module:   04 Lab\n",
    "Topic:    NLP and the Pipeline\n",
    "Author:   R.C. Alvarado\n",
    "Date:     5 February 2023\n",
    "```\n",
    "\n",
    "**Purpose**:  We import a collection of texts and convert to F2. Then we annotate the collection to create an F3-level model."
   ]
  },
  {
   "attachments": {},
   "cell_type": "markdown",
   "metadata": {
    "tags": [],
    "toc-hr-collapsed": true
   },
   "source": [
    "# Set Up"
   ]
  },
  {
   "attachments": {},
   "cell_type": "markdown",
   "metadata": {},
   "source": [
    "## Config\n",
    "\n",
    "To install plotly_express with conda:\n",
    "\n",
    "```bash\n",
    "conda install plotly::plotly_express \n",
    "```"
   ]
  },
  {
   "cell_type": "code",
   "execution_count": 7,
   "metadata": {
    "colab": {},
    "colab_type": "code",
    "id": "MwrVU8kZDykb",
    "tags": []
   },
   "outputs": [],
   "source": [
    "import pandas as pd\n",
    "import numpy as np\n",
    "from glob import glob\n",
    "import re\n",
    "import nltk\n",
    "import plotly_express as px"
   ]
  },
  {
   "cell_type": "code",
   "execution_count": 8,
   "metadata": {
    "tags": []
   },
   "outputs": [],
   "source": [
    "import configparser\n",
    "config = configparser.ConfigParser()\n",
    "config.read(\"../env.ini\")\n",
    "data_home = config['DEFAULT']['data_home']\n",
    "output_dir = config['DEFAULT']['output_dir']"
   ]
  },
  {
   "cell_type": "code",
   "execution_count": 9,
   "metadata": {
    "colab": {},
    "colab_type": "code",
    "id": "MwrVU8kZDykb",
    "tags": []
   },
   "outputs": [],
   "source": [
    "source_files = f'{data_home}/austen-melville-set'\n",
    "data_prefix = 'austen-melville'"
   ]
  },
  {
   "cell_type": "code",
   "execution_count": 10,
   "metadata": {
    "colab": {},
    "colab_type": "code",
    "id": "MwrVU8kZDykb",
    "tags": []
   },
   "outputs": [],
   "source": [
    "OHCO = ['book_id', 'chap_num', 'para_num', 'sent_num', 'token_num']"
   ]
  },
  {
   "cell_type": "code",
   "execution_count": 11,
   "metadata": {
    "colab": {},
    "colab_type": "code",
    "id": "MwrVU8kZDykb",
    "tags": []
   },
   "outputs": [],
   "source": [
    "import sys\n",
    "#sys.path.append(local_lib)"
   ]
  },
  {
   "cell_type": "code",
   "execution_count": 12,
   "metadata": {
    "colab": {},
    "colab_type": "code",
    "id": "MwrVU8kZDykb",
    "tags": []
   },
   "outputs": [],
   "source": [
    "from lib.textparser import TextParser"
   ]
  },
  {
   "attachments": {},
   "cell_type": "markdown",
   "metadata": {},
   "source": [
    "# Inspect\n",
    "\n",
    "Since Project Gutenberg texts vary widely in their markup, we define our chunking patterns by hand."
   ]
  },
  {
   "cell_type": "code",
   "execution_count": 13,
   "metadata": {},
   "outputs": [],
   "source": [
    "clip_pats = [\n",
    "    r\"\\*\\*\\*\\s*START OF\",\n",
    "    r\"\\*\\*\\*\\s*END OF\"\n",
    "]\n",
    "\n",
    "# All are 'chap'and 'm'\n",
    "roman = '[IVXLCM]+'\n",
    "caps = \"[A-Z';, -]+\"\n",
    "ohco_pat_list = [\n",
    "    (158,   rf\"^\\s*CHAPTER\\s+{roman}\\s*$\"),\n",
    "    (946,   rf\"^\\s*{roman}\\s*$\"),\n",
    "    (1212,  rf\"^\\s*LETTER .* to .*$\"),\n",
    "    (141,   rf\"^CHAPTER\\s+{roman}$\"),\n",
    "    (121,   rf\"^CHAPTER\\s+\\d+$\"),\n",
    "    (105,   rf\"^Chapter\\s+\\d+$\"),\n",
    "    (1342,  rf\"^Chapter\\s+\\d+$\"),\n",
    "    (161,   rf\"^CHAPTER\\s+\\d+$\"),    \n",
    "    (15422, rf\"^\\s*CHAPTER\\s+{roman}\\.\"),\n",
    "    (13720, rf\"^\\s*CHAPTER\\s+{roman}\\s*$\"),\n",
    "    (13721, rf\"^\\s*CHAPTER\\s+{roman}\\s*$\"),\n",
    "    (2701,  rf\"^(?:ETYMOLOGY|EXTRACTS|CHAPTER)\"),\n",
    "    (4045,  rf\"^\\s*CHAPTER\\s+{roman}\\.\\s*$\"),\n",
    "    (34970, rf\"^\\s*{roman}\\.\\s*$\"),\n",
    "    (8118,  rf\"^\\s*{roman}\\. .*$\"),\n",
    "    (21816, rf\"^CHAPTER\\s+{roman}\\.?$\"),\n",
    "    (15859, rf\"^\\s*[A-Z,;-]+\\.\\s*$\"),\n",
    "    (1900,  rf\"^CHAPTER \"),\n",
    "    (10712, rf\"^CHAPTER\\s+{roman}\\.\\s*$\")\n",
    "]"
   ]
  },
  {
   "attachments": {},
   "cell_type": "markdown",
   "metadata": {},
   "source": [
    "# Register\n",
    "\n",
    "We get each file and add to a library `LIB`."
   ]
  },
  {
   "cell_type": "code",
   "execution_count": 14,
   "metadata": {},
   "outputs": [],
   "source": [
    "source_file_list = sorted(glob(f\"{source_files}/*.*\"))"
   ]
  },
  {
   "cell_type": "code",
   "execution_count": 15,
   "metadata": {},
   "outputs": [],
   "source": [
    "# source_file_list"
   ]
  },
  {
   "cell_type": "code",
   "execution_count": 16,
   "metadata": {},
   "outputs": [],
   "source": [
    "book_data = []\n",
    "for source_file_path in source_file_list:\n",
    "    book_id = int(source_file_path.split('-')[-1].split('.')[0].replace('pg',''))\n",
    "    book_title = source_file_path.split('/')[-1].split('-')[0].replace('_', ' ')\n",
    "    book_data.append((book_id, source_file_path, book_title))"
   ]
  },
  {
   "cell_type": "code",
   "execution_count": 17,
   "metadata": {},
   "outputs": [],
   "source": [
    "LIB = pd.DataFrame(book_data, columns=['book_id','source_file_path','raw_title'])\\\n",
    "    .set_index('book_id').sort_index()"
   ]
  },
  {
   "cell_type": "code",
   "execution_count": 18,
   "metadata": {},
   "outputs": [
    {
     "data": {
      "text/html": [
       "<div>\n",
       "<style scoped>\n",
       "    .dataframe tbody tr th:only-of-type {\n",
       "        vertical-align: middle;\n",
       "    }\n",
       "\n",
       "    .dataframe tbody tr th {\n",
       "        vertical-align: top;\n",
       "    }\n",
       "\n",
       "    .dataframe thead th {\n",
       "        text-align: right;\n",
       "    }\n",
       "</style>\n",
       "<table border=\"1\" class=\"dataframe\">\n",
       "  <thead>\n",
       "    <tr style=\"text-align: right;\">\n",
       "      <th></th>\n",
       "      <th>source_file_path</th>\n",
       "      <th>raw_title</th>\n",
       "    </tr>\n",
       "    <tr>\n",
       "      <th>book_id</th>\n",
       "      <th></th>\n",
       "      <th></th>\n",
       "    </tr>\n",
       "  </thead>\n",
       "  <tbody>\n",
       "    <tr>\n",
       "      <th>105</th>\n",
       "      <td>/Users/michaelvaden/GithubRepos/DS5001-Workpla...</td>\n",
       "      <td>AUSTEN JANE PERSUASION</td>\n",
       "    </tr>\n",
       "    <tr>\n",
       "      <th>121</th>\n",
       "      <td>/Users/michaelvaden/GithubRepos/DS5001-Workpla...</td>\n",
       "      <td>AUSTEN JANE NORTHANGER ABBEY</td>\n",
       "    </tr>\n",
       "    <tr>\n",
       "      <th>141</th>\n",
       "      <td>/Users/michaelvaden/GithubRepos/DS5001-Workpla...</td>\n",
       "      <td>AUSTEN JANE MANSFIELD PARK</td>\n",
       "    </tr>\n",
       "    <tr>\n",
       "      <th>158</th>\n",
       "      <td>/Users/michaelvaden/GithubRepos/DS5001-Workpla...</td>\n",
       "      <td>AUSTEN JANE EMMA</td>\n",
       "    </tr>\n",
       "    <tr>\n",
       "      <th>161</th>\n",
       "      <td>/Users/michaelvaden/GithubRepos/DS5001-Workpla...</td>\n",
       "      <td>AUSTEN JANE SENSE AND SENSIBILITY</td>\n",
       "    </tr>\n",
       "    <tr>\n",
       "      <th>946</th>\n",
       "      <td>/Users/michaelvaden/GithubRepos/DS5001-Workpla...</td>\n",
       "      <td>AUSTEN JANE LADY SUSAN</td>\n",
       "    </tr>\n",
       "    <tr>\n",
       "      <th>1212</th>\n",
       "      <td>/Users/michaelvaden/GithubRepos/DS5001-Workpla...</td>\n",
       "      <td>AUSTEN JANE LOVE AND FREINDSHIP SIC</td>\n",
       "    </tr>\n",
       "    <tr>\n",
       "      <th>1342</th>\n",
       "      <td>/Users/michaelvaden/GithubRepos/DS5001-Workpla...</td>\n",
       "      <td>AUSTEN JANE PRIDE AND PREJUDICE</td>\n",
       "    </tr>\n",
       "    <tr>\n",
       "      <th>1900</th>\n",
       "      <td>/Users/michaelvaden/GithubRepos/DS5001-Workpla...</td>\n",
       "      <td>MELVILLE HERMAN TYPEE A ROMANCE OF THE SOUTH SEAS</td>\n",
       "    </tr>\n",
       "    <tr>\n",
       "      <th>2701</th>\n",
       "      <td>/Users/michaelvaden/GithubRepos/DS5001-Workpla...</td>\n",
       "      <td>MELVILLE HERMAN MOBY DICK OR THE WHALE</td>\n",
       "    </tr>\n",
       "    <tr>\n",
       "      <th>4045</th>\n",
       "      <td>/Users/michaelvaden/GithubRepos/DS5001-Workpla...</td>\n",
       "      <td>MELVILLE HERMAN OMOO ADVENTURES IN THE SOUTH SEAS</td>\n",
       "    </tr>\n",
       "    <tr>\n",
       "      <th>8118</th>\n",
       "      <td>/Users/michaelvaden/GithubRepos/DS5001-Workpla...</td>\n",
       "      <td>MELVILLE HERMAN REDBURN HIS FIRST VOYAGE BEING...</td>\n",
       "    </tr>\n",
       "    <tr>\n",
       "      <th>10712</th>\n",
       "      <td>/Users/michaelvaden/GithubRepos/DS5001-Workpla...</td>\n",
       "      <td>MELVILLE HERMAN WHITE JACKET OR THE WORLD ON A...</td>\n",
       "    </tr>\n",
       "    <tr>\n",
       "      <th>13720</th>\n",
       "      <td>/Users/michaelvaden/GithubRepos/DS5001-Workpla...</td>\n",
       "      <td>MELVILLE HERMAN MARDI AND A VOYAGE THITHER VOL I</td>\n",
       "    </tr>\n",
       "    <tr>\n",
       "      <th>13721</th>\n",
       "      <td>/Users/michaelvaden/GithubRepos/DS5001-Workpla...</td>\n",
       "      <td>MELVILLE HERMAN MARDI AND A VOYAGE THITHER VOL II</td>\n",
       "    </tr>\n",
       "    <tr>\n",
       "      <th>15422</th>\n",
       "      <td>/Users/michaelvaden/GithubRepos/DS5001-Workpla...</td>\n",
       "      <td>MELVILLE HERMAN ISRAEL POTTER HIS FIFTY YEARS ...</td>\n",
       "    </tr>\n",
       "    <tr>\n",
       "      <th>15859</th>\n",
       "      <td>/Users/michaelvaden/GithubRepos/DS5001-Workpla...</td>\n",
       "      <td>MELVILLE HERMAN THE PIAZZA TALES</td>\n",
       "    </tr>\n",
       "    <tr>\n",
       "      <th>21816</th>\n",
       "      <td>/Users/michaelvaden/GithubRepos/DS5001-Workpla...</td>\n",
       "      <td>MELVILLE HERMAN THE CONFIDENCE MAN HIS MASQUERADE</td>\n",
       "    </tr>\n",
       "    <tr>\n",
       "      <th>34970</th>\n",
       "      <td>/Users/michaelvaden/GithubRepos/DS5001-Workpla...</td>\n",
       "      <td>MELVILLE HERMAN PIERRE OR THE AMBIGUITIES</td>\n",
       "    </tr>\n",
       "  </tbody>\n",
       "</table>\n",
       "</div>"
      ],
      "text/plain": [
       "                                          source_file_path                                          raw_title\n",
       "book_id                                                                                                      \n",
       "105      /Users/michaelvaden/GithubRepos/DS5001-Workpla...                             AUSTEN JANE PERSUASION\n",
       "121      /Users/michaelvaden/GithubRepos/DS5001-Workpla...                       AUSTEN JANE NORTHANGER ABBEY\n",
       "141      /Users/michaelvaden/GithubRepos/DS5001-Workpla...                         AUSTEN JANE MANSFIELD PARK\n",
       "158      /Users/michaelvaden/GithubRepos/DS5001-Workpla...                                   AUSTEN JANE EMMA\n",
       "161      /Users/michaelvaden/GithubRepos/DS5001-Workpla...                  AUSTEN JANE SENSE AND SENSIBILITY\n",
       "946      /Users/michaelvaden/GithubRepos/DS5001-Workpla...                             AUSTEN JANE LADY SUSAN\n",
       "1212     /Users/michaelvaden/GithubRepos/DS5001-Workpla...               AUSTEN JANE LOVE AND FREINDSHIP SIC \n",
       "1342     /Users/michaelvaden/GithubRepos/DS5001-Workpla...                    AUSTEN JANE PRIDE AND PREJUDICE\n",
       "1900     /Users/michaelvaden/GithubRepos/DS5001-Workpla...  MELVILLE HERMAN TYPEE A ROMANCE OF THE SOUTH SEAS\n",
       "2701     /Users/michaelvaden/GithubRepos/DS5001-Workpla...             MELVILLE HERMAN MOBY DICK OR THE WHALE\n",
       "4045     /Users/michaelvaden/GithubRepos/DS5001-Workpla...  MELVILLE HERMAN OMOO ADVENTURES IN THE SOUTH SEAS\n",
       "8118     /Users/michaelvaden/GithubRepos/DS5001-Workpla...  MELVILLE HERMAN REDBURN HIS FIRST VOYAGE BEING...\n",
       "10712    /Users/michaelvaden/GithubRepos/DS5001-Workpla...  MELVILLE HERMAN WHITE JACKET OR THE WORLD ON A...\n",
       "13720    /Users/michaelvaden/GithubRepos/DS5001-Workpla...   MELVILLE HERMAN MARDI AND A VOYAGE THITHER VOL I\n",
       "13721    /Users/michaelvaden/GithubRepos/DS5001-Workpla...  MELVILLE HERMAN MARDI AND A VOYAGE THITHER VOL II\n",
       "15422    /Users/michaelvaden/GithubRepos/DS5001-Workpla...  MELVILLE HERMAN ISRAEL POTTER HIS FIFTY YEARS ...\n",
       "15859    /Users/michaelvaden/GithubRepos/DS5001-Workpla...                   MELVILLE HERMAN THE PIAZZA TALES\n",
       "21816    /Users/michaelvaden/GithubRepos/DS5001-Workpla...  MELVILLE HERMAN THE CONFIDENCE MAN HIS MASQUERADE\n",
       "34970    /Users/michaelvaden/GithubRepos/DS5001-Workpla...          MELVILLE HERMAN PIERRE OR THE AMBIGUITIES"
      ]
     },
     "execution_count": 18,
     "metadata": {},
     "output_type": "execute_result"
    }
   ],
   "source": [
    "LIB"
   ]
  },
  {
   "cell_type": "code",
   "execution_count": 19,
   "metadata": {},
   "outputs": [],
   "source": [
    "try:\n",
    "    LIB['author'] = LIB.raw_title.apply(lambda x: ', '.join(x.split()[:2]))\n",
    "    LIB['title'] = LIB.raw_title.apply(lambda x: ' '.join(x.split()[2:]))\n",
    "    LIB = LIB.drop('raw_title', axis=1)\n",
    "except AttributeError:\n",
    "    pass"
   ]
  },
  {
   "cell_type": "code",
   "execution_count": 20,
   "metadata": {},
   "outputs": [
    {
     "data": {
      "text/html": [
       "<div>\n",
       "<style scoped>\n",
       "    .dataframe tbody tr th:only-of-type {\n",
       "        vertical-align: middle;\n",
       "    }\n",
       "\n",
       "    .dataframe tbody tr th {\n",
       "        vertical-align: top;\n",
       "    }\n",
       "\n",
       "    .dataframe thead th {\n",
       "        text-align: right;\n",
       "    }\n",
       "</style>\n",
       "<table border=\"1\" class=\"dataframe\">\n",
       "  <thead>\n",
       "    <tr style=\"text-align: right;\">\n",
       "      <th></th>\n",
       "      <th>source_file_path</th>\n",
       "      <th>author</th>\n",
       "      <th>title</th>\n",
       "    </tr>\n",
       "    <tr>\n",
       "      <th>book_id</th>\n",
       "      <th></th>\n",
       "      <th></th>\n",
       "      <th></th>\n",
       "    </tr>\n",
       "  </thead>\n",
       "  <tbody>\n",
       "    <tr>\n",
       "      <th>105</th>\n",
       "      <td>/Users/michaelvaden/GithubRepos/DS5001-Workpla...</td>\n",
       "      <td>AUSTEN, JANE</td>\n",
       "      <td>PERSUASION</td>\n",
       "    </tr>\n",
       "    <tr>\n",
       "      <th>121</th>\n",
       "      <td>/Users/michaelvaden/GithubRepos/DS5001-Workpla...</td>\n",
       "      <td>AUSTEN, JANE</td>\n",
       "      <td>NORTHANGER ABBEY</td>\n",
       "    </tr>\n",
       "    <tr>\n",
       "      <th>141</th>\n",
       "      <td>/Users/michaelvaden/GithubRepos/DS5001-Workpla...</td>\n",
       "      <td>AUSTEN, JANE</td>\n",
       "      <td>MANSFIELD PARK</td>\n",
       "    </tr>\n",
       "    <tr>\n",
       "      <th>158</th>\n",
       "      <td>/Users/michaelvaden/GithubRepos/DS5001-Workpla...</td>\n",
       "      <td>AUSTEN, JANE</td>\n",
       "      <td>EMMA</td>\n",
       "    </tr>\n",
       "    <tr>\n",
       "      <th>161</th>\n",
       "      <td>/Users/michaelvaden/GithubRepos/DS5001-Workpla...</td>\n",
       "      <td>AUSTEN, JANE</td>\n",
       "      <td>SENSE AND SENSIBILITY</td>\n",
       "    </tr>\n",
       "    <tr>\n",
       "      <th>946</th>\n",
       "      <td>/Users/michaelvaden/GithubRepos/DS5001-Workpla...</td>\n",
       "      <td>AUSTEN, JANE</td>\n",
       "      <td>LADY SUSAN</td>\n",
       "    </tr>\n",
       "    <tr>\n",
       "      <th>1212</th>\n",
       "      <td>/Users/michaelvaden/GithubRepos/DS5001-Workpla...</td>\n",
       "      <td>AUSTEN, JANE</td>\n",
       "      <td>LOVE AND FREINDSHIP SIC</td>\n",
       "    </tr>\n",
       "    <tr>\n",
       "      <th>1342</th>\n",
       "      <td>/Users/michaelvaden/GithubRepos/DS5001-Workpla...</td>\n",
       "      <td>AUSTEN, JANE</td>\n",
       "      <td>PRIDE AND PREJUDICE</td>\n",
       "    </tr>\n",
       "    <tr>\n",
       "      <th>1900</th>\n",
       "      <td>/Users/michaelvaden/GithubRepos/DS5001-Workpla...</td>\n",
       "      <td>MELVILLE, HERMAN</td>\n",
       "      <td>TYPEE A ROMANCE OF THE SOUTH SEAS</td>\n",
       "    </tr>\n",
       "    <tr>\n",
       "      <th>2701</th>\n",
       "      <td>/Users/michaelvaden/GithubRepos/DS5001-Workpla...</td>\n",
       "      <td>MELVILLE, HERMAN</td>\n",
       "      <td>MOBY DICK OR THE WHALE</td>\n",
       "    </tr>\n",
       "    <tr>\n",
       "      <th>4045</th>\n",
       "      <td>/Users/michaelvaden/GithubRepos/DS5001-Workpla...</td>\n",
       "      <td>MELVILLE, HERMAN</td>\n",
       "      <td>OMOO ADVENTURES IN THE SOUTH SEAS</td>\n",
       "    </tr>\n",
       "    <tr>\n",
       "      <th>8118</th>\n",
       "      <td>/Users/michaelvaden/GithubRepos/DS5001-Workpla...</td>\n",
       "      <td>MELVILLE, HERMAN</td>\n",
       "      <td>REDBURN HIS FIRST VOYAGE BEING THE SAILOR BOY ...</td>\n",
       "    </tr>\n",
       "    <tr>\n",
       "      <th>10712</th>\n",
       "      <td>/Users/michaelvaden/GithubRepos/DS5001-Workpla...</td>\n",
       "      <td>MELVILLE, HERMAN</td>\n",
       "      <td>WHITE JACKET OR THE WORLD ON A MAN OF WAR</td>\n",
       "    </tr>\n",
       "    <tr>\n",
       "      <th>13720</th>\n",
       "      <td>/Users/michaelvaden/GithubRepos/DS5001-Workpla...</td>\n",
       "      <td>MELVILLE, HERMAN</td>\n",
       "      <td>MARDI AND A VOYAGE THITHER VOL I</td>\n",
       "    </tr>\n",
       "    <tr>\n",
       "      <th>13721</th>\n",
       "      <td>/Users/michaelvaden/GithubRepos/DS5001-Workpla...</td>\n",
       "      <td>MELVILLE, HERMAN</td>\n",
       "      <td>MARDI AND A VOYAGE THITHER VOL II</td>\n",
       "    </tr>\n",
       "    <tr>\n",
       "      <th>15422</th>\n",
       "      <td>/Users/michaelvaden/GithubRepos/DS5001-Workpla...</td>\n",
       "      <td>MELVILLE, HERMAN</td>\n",
       "      <td>ISRAEL POTTER HIS FIFTY YEARS OF EXILE</td>\n",
       "    </tr>\n",
       "    <tr>\n",
       "      <th>15859</th>\n",
       "      <td>/Users/michaelvaden/GithubRepos/DS5001-Workpla...</td>\n",
       "      <td>MELVILLE, HERMAN</td>\n",
       "      <td>THE PIAZZA TALES</td>\n",
       "    </tr>\n",
       "    <tr>\n",
       "      <th>21816</th>\n",
       "      <td>/Users/michaelvaden/GithubRepos/DS5001-Workpla...</td>\n",
       "      <td>MELVILLE, HERMAN</td>\n",
       "      <td>THE CONFIDENCE MAN HIS MASQUERADE</td>\n",
       "    </tr>\n",
       "    <tr>\n",
       "      <th>34970</th>\n",
       "      <td>/Users/michaelvaden/GithubRepos/DS5001-Workpla...</td>\n",
       "      <td>MELVILLE, HERMAN</td>\n",
       "      <td>PIERRE OR THE AMBIGUITIES</td>\n",
       "    </tr>\n",
       "  </tbody>\n",
       "</table>\n",
       "</div>"
      ],
      "text/plain": [
       "                                          source_file_path  ...                                              title\n",
       "book_id                                                     ...                                                   \n",
       "105      /Users/michaelvaden/GithubRepos/DS5001-Workpla...  ...                                         PERSUASION\n",
       "121      /Users/michaelvaden/GithubRepos/DS5001-Workpla...  ...                                   NORTHANGER ABBEY\n",
       "141      /Users/michaelvaden/GithubRepos/DS5001-Workpla...  ...                                     MANSFIELD PARK\n",
       "158      /Users/michaelvaden/GithubRepos/DS5001-Workpla...  ...                                               EMMA\n",
       "161      /Users/michaelvaden/GithubRepos/DS5001-Workpla...  ...                              SENSE AND SENSIBILITY\n",
       "946      /Users/michaelvaden/GithubRepos/DS5001-Workpla...  ...                                         LADY SUSAN\n",
       "1212     /Users/michaelvaden/GithubRepos/DS5001-Workpla...  ...                            LOVE AND FREINDSHIP SIC\n",
       "1342     /Users/michaelvaden/GithubRepos/DS5001-Workpla...  ...                                PRIDE AND PREJUDICE\n",
       "1900     /Users/michaelvaden/GithubRepos/DS5001-Workpla...  ...                  TYPEE A ROMANCE OF THE SOUTH SEAS\n",
       "2701     /Users/michaelvaden/GithubRepos/DS5001-Workpla...  ...                             MOBY DICK OR THE WHALE\n",
       "4045     /Users/michaelvaden/GithubRepos/DS5001-Workpla...  ...                  OMOO ADVENTURES IN THE SOUTH SEAS\n",
       "8118     /Users/michaelvaden/GithubRepos/DS5001-Workpla...  ...  REDBURN HIS FIRST VOYAGE BEING THE SAILOR BOY ...\n",
       "10712    /Users/michaelvaden/GithubRepos/DS5001-Workpla...  ...          WHITE JACKET OR THE WORLD ON A MAN OF WAR\n",
       "13720    /Users/michaelvaden/GithubRepos/DS5001-Workpla...  ...                   MARDI AND A VOYAGE THITHER VOL I\n",
       "13721    /Users/michaelvaden/GithubRepos/DS5001-Workpla...  ...                  MARDI AND A VOYAGE THITHER VOL II\n",
       "15422    /Users/michaelvaden/GithubRepos/DS5001-Workpla...  ...             ISRAEL POTTER HIS FIFTY YEARS OF EXILE\n",
       "15859    /Users/michaelvaden/GithubRepos/DS5001-Workpla...  ...                                   THE PIAZZA TALES\n",
       "21816    /Users/michaelvaden/GithubRepos/DS5001-Workpla...  ...                  THE CONFIDENCE MAN HIS MASQUERADE\n",
       "34970    /Users/michaelvaden/GithubRepos/DS5001-Workpla...  ...                          PIERRE OR THE AMBIGUITIES\n",
       "\n",
       "[19 rows x 3 columns]"
      ]
     },
     "execution_count": 20,
     "metadata": {},
     "output_type": "execute_result"
    }
   ],
   "source": [
    "LIB"
   ]
  },
  {
   "attachments": {},
   "cell_type": "markdown",
   "metadata": {},
   "source": [
    "## Save Chapter regexes"
   ]
  },
  {
   "cell_type": "code",
   "execution_count": 21,
   "metadata": {},
   "outputs": [],
   "source": [
    "LIB['chap_regex'] = LIB.index.map(pd.Series({x[0]:x[1] for x in ohco_pat_list}))"
   ]
  },
  {
   "cell_type": "code",
   "execution_count": 22,
   "metadata": {},
   "outputs": [
    {
     "data": {
      "text/html": [
       "<div>\n",
       "<style scoped>\n",
       "    .dataframe tbody tr th:only-of-type {\n",
       "        vertical-align: middle;\n",
       "    }\n",
       "\n",
       "    .dataframe tbody tr th {\n",
       "        vertical-align: top;\n",
       "    }\n",
       "\n",
       "    .dataframe thead th {\n",
       "        text-align: right;\n",
       "    }\n",
       "</style>\n",
       "<table border=\"1\" class=\"dataframe\">\n",
       "  <thead>\n",
       "    <tr style=\"text-align: right;\">\n",
       "      <th></th>\n",
       "      <th>source_file_path</th>\n",
       "      <th>author</th>\n",
       "      <th>title</th>\n",
       "      <th>chap_regex</th>\n",
       "    </tr>\n",
       "    <tr>\n",
       "      <th>book_id</th>\n",
       "      <th></th>\n",
       "      <th></th>\n",
       "      <th></th>\n",
       "      <th></th>\n",
       "    </tr>\n",
       "  </thead>\n",
       "  <tbody>\n",
       "    <tr>\n",
       "      <th>105</th>\n",
       "      <td>/Users/michaelvaden/GithubRepos/DS5001-Workpla...</td>\n",
       "      <td>AUSTEN, JANE</td>\n",
       "      <td>PERSUASION</td>\n",
       "      <td>^Chapter\\s+\\d+$</td>\n",
       "    </tr>\n",
       "    <tr>\n",
       "      <th>121</th>\n",
       "      <td>/Users/michaelvaden/GithubRepos/DS5001-Workpla...</td>\n",
       "      <td>AUSTEN, JANE</td>\n",
       "      <td>NORTHANGER ABBEY</td>\n",
       "      <td>^CHAPTER\\s+\\d+$</td>\n",
       "    </tr>\n",
       "    <tr>\n",
       "      <th>141</th>\n",
       "      <td>/Users/michaelvaden/GithubRepos/DS5001-Workpla...</td>\n",
       "      <td>AUSTEN, JANE</td>\n",
       "      <td>MANSFIELD PARK</td>\n",
       "      <td>^CHAPTER\\s+[IVXLCM]+$</td>\n",
       "    </tr>\n",
       "    <tr>\n",
       "      <th>158</th>\n",
       "      <td>/Users/michaelvaden/GithubRepos/DS5001-Workpla...</td>\n",
       "      <td>AUSTEN, JANE</td>\n",
       "      <td>EMMA</td>\n",
       "      <td>^\\s*CHAPTER\\s+[IVXLCM]+\\s*$</td>\n",
       "    </tr>\n",
       "    <tr>\n",
       "      <th>161</th>\n",
       "      <td>/Users/michaelvaden/GithubRepos/DS5001-Workpla...</td>\n",
       "      <td>AUSTEN, JANE</td>\n",
       "      <td>SENSE AND SENSIBILITY</td>\n",
       "      <td>^CHAPTER\\s+\\d+$</td>\n",
       "    </tr>\n",
       "    <tr>\n",
       "      <th>946</th>\n",
       "      <td>/Users/michaelvaden/GithubRepos/DS5001-Workpla...</td>\n",
       "      <td>AUSTEN, JANE</td>\n",
       "      <td>LADY SUSAN</td>\n",
       "      <td>^\\s*[IVXLCM]+\\s*$</td>\n",
       "    </tr>\n",
       "    <tr>\n",
       "      <th>1212</th>\n",
       "      <td>/Users/michaelvaden/GithubRepos/DS5001-Workpla...</td>\n",
       "      <td>AUSTEN, JANE</td>\n",
       "      <td>LOVE AND FREINDSHIP SIC</td>\n",
       "      <td>^\\s*LETTER .* to .*$</td>\n",
       "    </tr>\n",
       "    <tr>\n",
       "      <th>1342</th>\n",
       "      <td>/Users/michaelvaden/GithubRepos/DS5001-Workpla...</td>\n",
       "      <td>AUSTEN, JANE</td>\n",
       "      <td>PRIDE AND PREJUDICE</td>\n",
       "      <td>^Chapter\\s+\\d+$</td>\n",
       "    </tr>\n",
       "    <tr>\n",
       "      <th>1900</th>\n",
       "      <td>/Users/michaelvaden/GithubRepos/DS5001-Workpla...</td>\n",
       "      <td>MELVILLE, HERMAN</td>\n",
       "      <td>TYPEE A ROMANCE OF THE SOUTH SEAS</td>\n",
       "      <td>^CHAPTER</td>\n",
       "    </tr>\n",
       "    <tr>\n",
       "      <th>2701</th>\n",
       "      <td>/Users/michaelvaden/GithubRepos/DS5001-Workpla...</td>\n",
       "      <td>MELVILLE, HERMAN</td>\n",
       "      <td>MOBY DICK OR THE WHALE</td>\n",
       "      <td>^(?:ETYMOLOGY|EXTRACTS|CHAPTER)</td>\n",
       "    </tr>\n",
       "    <tr>\n",
       "      <th>4045</th>\n",
       "      <td>/Users/michaelvaden/GithubRepos/DS5001-Workpla...</td>\n",
       "      <td>MELVILLE, HERMAN</td>\n",
       "      <td>OMOO ADVENTURES IN THE SOUTH SEAS</td>\n",
       "      <td>^\\s*CHAPTER\\s+[IVXLCM]+\\.\\s*$</td>\n",
       "    </tr>\n",
       "    <tr>\n",
       "      <th>8118</th>\n",
       "      <td>/Users/michaelvaden/GithubRepos/DS5001-Workpla...</td>\n",
       "      <td>MELVILLE, HERMAN</td>\n",
       "      <td>REDBURN HIS FIRST VOYAGE BEING THE SAILOR BOY ...</td>\n",
       "      <td>^\\s*[IVXLCM]+\\. .*$</td>\n",
       "    </tr>\n",
       "    <tr>\n",
       "      <th>10712</th>\n",
       "      <td>/Users/michaelvaden/GithubRepos/DS5001-Workpla...</td>\n",
       "      <td>MELVILLE, HERMAN</td>\n",
       "      <td>WHITE JACKET OR THE WORLD ON A MAN OF WAR</td>\n",
       "      <td>^CHAPTER\\s+[IVXLCM]+\\.\\s*$</td>\n",
       "    </tr>\n",
       "    <tr>\n",
       "      <th>13720</th>\n",
       "      <td>/Users/michaelvaden/GithubRepos/DS5001-Workpla...</td>\n",
       "      <td>MELVILLE, HERMAN</td>\n",
       "      <td>MARDI AND A VOYAGE THITHER VOL I</td>\n",
       "      <td>^\\s*CHAPTER\\s+[IVXLCM]+\\s*$</td>\n",
       "    </tr>\n",
       "    <tr>\n",
       "      <th>13721</th>\n",
       "      <td>/Users/michaelvaden/GithubRepos/DS5001-Workpla...</td>\n",
       "      <td>MELVILLE, HERMAN</td>\n",
       "      <td>MARDI AND A VOYAGE THITHER VOL II</td>\n",
       "      <td>^\\s*CHAPTER\\s+[IVXLCM]+\\s*$</td>\n",
       "    </tr>\n",
       "    <tr>\n",
       "      <th>15422</th>\n",
       "      <td>/Users/michaelvaden/GithubRepos/DS5001-Workpla...</td>\n",
       "      <td>MELVILLE, HERMAN</td>\n",
       "      <td>ISRAEL POTTER HIS FIFTY YEARS OF EXILE</td>\n",
       "      <td>^\\s*CHAPTER\\s+[IVXLCM]+\\.</td>\n",
       "    </tr>\n",
       "    <tr>\n",
       "      <th>15859</th>\n",
       "      <td>/Users/michaelvaden/GithubRepos/DS5001-Workpla...</td>\n",
       "      <td>MELVILLE, HERMAN</td>\n",
       "      <td>THE PIAZZA TALES</td>\n",
       "      <td>^\\s*[A-Z,;-]+\\.\\s*$</td>\n",
       "    </tr>\n",
       "    <tr>\n",
       "      <th>21816</th>\n",
       "      <td>/Users/michaelvaden/GithubRepos/DS5001-Workpla...</td>\n",
       "      <td>MELVILLE, HERMAN</td>\n",
       "      <td>THE CONFIDENCE MAN HIS MASQUERADE</td>\n",
       "      <td>^CHAPTER\\s+[IVXLCM]+\\.?$</td>\n",
       "    </tr>\n",
       "    <tr>\n",
       "      <th>34970</th>\n",
       "      <td>/Users/michaelvaden/GithubRepos/DS5001-Workpla...</td>\n",
       "      <td>MELVILLE, HERMAN</td>\n",
       "      <td>PIERRE OR THE AMBIGUITIES</td>\n",
       "      <td>^\\s*[IVXLCM]+\\.\\s*$</td>\n",
       "    </tr>\n",
       "  </tbody>\n",
       "</table>\n",
       "</div>"
      ],
      "text/plain": [
       "                                          source_file_path  ...                       chap_regex\n",
       "book_id                                                     ...                                 \n",
       "105      /Users/michaelvaden/GithubRepos/DS5001-Workpla...  ...                  ^Chapter\\s+\\d+$\n",
       "121      /Users/michaelvaden/GithubRepos/DS5001-Workpla...  ...                  ^CHAPTER\\s+\\d+$\n",
       "141      /Users/michaelvaden/GithubRepos/DS5001-Workpla...  ...            ^CHAPTER\\s+[IVXLCM]+$\n",
       "158      /Users/michaelvaden/GithubRepos/DS5001-Workpla...  ...      ^\\s*CHAPTER\\s+[IVXLCM]+\\s*$\n",
       "161      /Users/michaelvaden/GithubRepos/DS5001-Workpla...  ...                  ^CHAPTER\\s+\\d+$\n",
       "946      /Users/michaelvaden/GithubRepos/DS5001-Workpla...  ...                ^\\s*[IVXLCM]+\\s*$\n",
       "1212     /Users/michaelvaden/GithubRepos/DS5001-Workpla...  ...             ^\\s*LETTER .* to .*$\n",
       "1342     /Users/michaelvaden/GithubRepos/DS5001-Workpla...  ...                  ^Chapter\\s+\\d+$\n",
       "1900     /Users/michaelvaden/GithubRepos/DS5001-Workpla...  ...                        ^CHAPTER \n",
       "2701     /Users/michaelvaden/GithubRepos/DS5001-Workpla...  ...  ^(?:ETYMOLOGY|EXTRACTS|CHAPTER)\n",
       "4045     /Users/michaelvaden/GithubRepos/DS5001-Workpla...  ...    ^\\s*CHAPTER\\s+[IVXLCM]+\\.\\s*$\n",
       "8118     /Users/michaelvaden/GithubRepos/DS5001-Workpla...  ...              ^\\s*[IVXLCM]+\\. .*$\n",
       "10712    /Users/michaelvaden/GithubRepos/DS5001-Workpla...  ...       ^CHAPTER\\s+[IVXLCM]+\\.\\s*$\n",
       "13720    /Users/michaelvaden/GithubRepos/DS5001-Workpla...  ...      ^\\s*CHAPTER\\s+[IVXLCM]+\\s*$\n",
       "13721    /Users/michaelvaden/GithubRepos/DS5001-Workpla...  ...      ^\\s*CHAPTER\\s+[IVXLCM]+\\s*$\n",
       "15422    /Users/michaelvaden/GithubRepos/DS5001-Workpla...  ...        ^\\s*CHAPTER\\s+[IVXLCM]+\\.\n",
       "15859    /Users/michaelvaden/GithubRepos/DS5001-Workpla...  ...              ^\\s*[A-Z,;-]+\\.\\s*$\n",
       "21816    /Users/michaelvaden/GithubRepos/DS5001-Workpla...  ...         ^CHAPTER\\s+[IVXLCM]+\\.?$\n",
       "34970    /Users/michaelvaden/GithubRepos/DS5001-Workpla...  ...              ^\\s*[IVXLCM]+\\.\\s*$\n",
       "\n",
       "[19 rows x 4 columns]"
      ]
     },
     "execution_count": 22,
     "metadata": {},
     "output_type": "execute_result"
    }
   ],
   "source": [
    "LIB"
   ]
  },
  {
   "attachments": {},
   "cell_type": "markdown",
   "metadata": {},
   "source": [
    "## Tokenize Corpus\n",
    "\n",
    "We tokenize each book and add each `TOKENS` table to a list to be concatenated into a single `CORPUS`."
   ]
  },
  {
   "cell_type": "code",
   "execution_count": 23,
   "metadata": {
    "tags": []
   },
   "outputs": [],
   "source": [
    "def tokenize_collection(LIB):\n",
    "\n",
    "    clip_pats = [\n",
    "        r\"\\*\\*\\*\\s*START OF\",\n",
    "        r\"\\*\\*\\*\\s*END OF\"\n",
    "    ]\n",
    "\n",
    "    books = []\n",
    "    for book_id in LIB.index:\n",
    "\n",
    "        # Announce\n",
    "        print(\"Tokenizing\", book_id, LIB.loc[book_id].title)\n",
    "\n",
    "        # Define vars\n",
    "        chap_regex = LIB.loc[book_id].chap_regex\n",
    "        ohco_pats = [('chap', chap_regex, 'm')]\n",
    "        src_file_path = LIB.loc[book_id].source_file_path\n",
    "\n",
    "        # Create object\n",
    "        text = TextParser(src_file_path, ohco_pats=ohco_pats, clip_pats=clip_pats, use_nltk=True)\n",
    "\n",
    "        # Define parameters\n",
    "        text.verbose = True\n",
    "        text.strip_hyphens = True\n",
    "        text.strip_whitespace = True\n",
    "\n",
    "        # Parse\n",
    "        text.import_source().parse_tokens();\n",
    "\n",
    "        # Name things\n",
    "        text.TOKENS['book_id'] = book_id\n",
    "        text.TOKENS = text.TOKENS.reset_index().set_index(['book_id'] + text.OHCO)\n",
    "\n",
    "        # Add to list\n",
    "        books.append(text.TOKENS)\n",
    "        \n",
    "    # Combine into a single dataframe\n",
    "    CORPUS = pd.concat(books).sort_index()\n",
    "\n",
    "    # Clean up\n",
    "    del(books)\n",
    "    del(text)\n",
    "        \n",
    "    print(\"Done\")\n",
    "        \n",
    "    return CORPUS"
   ]
  },
  {
   "cell_type": "code",
   "execution_count": 24,
   "metadata": {},
   "outputs": [
    {
     "data": {
      "text/plain": [
       "'^\\\\s*[A-Z,;-]+\\\\.\\\\s*$'"
      ]
     },
     "execution_count": 24,
     "metadata": {},
     "output_type": "execute_result"
    }
   ],
   "source": [
    "LIB.loc[15859].chap_regex"
   ]
  },
  {
   "cell_type": "code",
   "execution_count": 25,
   "metadata": {},
   "outputs": [
    {
     "name": "stdout",
     "output_type": "stream",
     "text": [
      "Tokenizing 105 PERSUASION\n",
      "Importing  /Users/michaelvaden/GithubRepos/DS5001-Workplace/data/austen-melville-set/AUSTEN_JANE_PERSUASION-pg105.txt\n",
      "Clipping text\n",
      "Parsing OHCO level 0 chap_id by milestone ^Chapter\\s+\\d+$\n",
      "line_str chap_str\n",
      "Index(['chap_str'], dtype='object')\n",
      "Parsing OHCO level 1 para_num by delimitter \\n\\n\n",
      "Parsing OHCO level 2 sent_num by NLTK model\n",
      "Parsing OHCO level 3 token_num by NLTK model\n"
     ]
    },
    {
     "name": "stdout",
     "output_type": "stream",
     "text": [
      "Tokenizing 121 NORTHANGER ABBEY\n",
      "Importing  /Users/michaelvaden/GithubRepos/DS5001-Workplace/data/austen-melville-set/AUSTEN_JANE_NORTHANGER_ABBEY-pg121.txt\n",
      "Clipping text\n",
      "Parsing OHCO level 0 chap_id by milestone ^CHAPTER\\s+\\d+$\n",
      "line_str chap_str\n",
      "Index(['chap_str'], dtype='object')\n",
      "Parsing OHCO level 1 para_num by delimitter \\n\\n\n",
      "Parsing OHCO level 2 sent_num by NLTK model\n",
      "Parsing OHCO level 3 token_num by NLTK model\n",
      "Tokenizing 141 MANSFIELD PARK\n",
      "Importing  /Users/michaelvaden/GithubRepos/DS5001-Workplace/data/austen-melville-set/AUSTEN_JANE_MANSFIELD_PARK-pg141.txt\n",
      "Clipping text\n",
      "Parsing OHCO level 0 chap_id by milestone ^CHAPTER\\s+[IVXLCM]+$\n",
      "line_str chap_str\n",
      "Index(['chap_str'], dtype='object')\n",
      "Parsing OHCO level 1 para_num by delimitter \\n\\n\n",
      "Parsing OHCO level 2 sent_num by NLTK model\n",
      "Parsing OHCO level 3 token_num by NLTK model\n",
      "Tokenizing 158 EMMA\n",
      "Importing  /Users/michaelvaden/GithubRepos/DS5001-Workplace/data/austen-melville-set/AUSTEN_JANE_EMMA-pg158.txt\n",
      "Clipping text\n",
      "Parsing OHCO level 0 chap_id by milestone ^\\s*CHAPTER\\s+[IVXLCM]+\\s*$\n",
      "line_str chap_str\n",
      "Index(['chap_str'], dtype='object')\n",
      "Parsing OHCO level 1 para_num by delimitter \\n\\n\n",
      "Parsing OHCO level 2 sent_num by NLTK model\n",
      "Parsing OHCO level 3 token_num by NLTK model\n",
      "Tokenizing 161 SENSE AND SENSIBILITY\n",
      "Importing  /Users/michaelvaden/GithubRepos/DS5001-Workplace/data/austen-melville-set/AUSTEN_JANE_SENSE_AND_SENSIBILITY-pg161.txt\n",
      "Clipping text\n",
      "Parsing OHCO level 0 chap_id by milestone ^CHAPTER\\s+\\d+$\n",
      "line_str chap_str\n",
      "Index(['chap_str'], dtype='object')\n",
      "Parsing OHCO level 1 para_num by delimitter \\n\\n\n",
      "Parsing OHCO level 2 sent_num by NLTK model\n",
      "Parsing OHCO level 3 token_num by NLTK model\n",
      "Tokenizing 946 LADY SUSAN\n",
      "Importing  /Users/michaelvaden/GithubRepos/DS5001-Workplace/data/austen-melville-set/AUSTEN_JANE_LADY_SUSAN-pg946.txt\n",
      "Clipping text\n",
      "Parsing OHCO level 0 chap_id by milestone ^\\s*[IVXLCM]+\\s*$\n",
      "line_str chap_str\n",
      "Index(['chap_str'], dtype='object')\n",
      "Parsing OHCO level 1 para_num by delimitter \\n\\n\n",
      "Parsing OHCO level 2 sent_num by NLTK model\n",
      "Parsing OHCO level 3 token_num by NLTK model\n",
      "Tokenizing 1212 LOVE AND FREINDSHIP SIC\n",
      "Importing  /Users/michaelvaden/GithubRepos/DS5001-Workplace/data/austen-melville-set/AUSTEN_JANE_LOVE_AND_FREINDSHIP_SIC_-pg1212.txt\n",
      "Clipping text\n",
      "Parsing OHCO level 0 chap_id by milestone ^\\s*LETTER .* to .*$\n",
      "line_str chap_str\n",
      "Index(['chap_str'], dtype='object')\n",
      "Parsing OHCO level 1 para_num by delimitter \\n\\n\n",
      "Parsing OHCO level 2 sent_num by NLTK model\n",
      "Parsing OHCO level 3 token_num by NLTK model\n",
      "Tokenizing 1342 PRIDE AND PREJUDICE\n",
      "Importing  /Users/michaelvaden/GithubRepos/DS5001-Workplace/data/austen-melville-set/AUSTEN_JANE_PRIDE_AND_PREJUDICE-pg1342.txt\n",
      "Clipping text\n",
      "Parsing OHCO level 0 chap_id by milestone ^Chapter\\s+\\d+$\n",
      "line_str chap_str\n",
      "Index(['chap_str'], dtype='object')\n",
      "Parsing OHCO level 1 para_num by delimitter \\n\\n\n",
      "Parsing OHCO level 2 sent_num by NLTK model\n",
      "Parsing OHCO level 3 token_num by NLTK model\n",
      "Tokenizing 1900 TYPEE A ROMANCE OF THE SOUTH SEAS\n",
      "Importing  /Users/michaelvaden/GithubRepos/DS5001-Workplace/data/austen-melville-set/MELVILLE_HERMAN_TYPEE_A_ROMANCE_OF_THE_SOUTH_SEAS-pg1900.txt\n",
      "Clipping text\n",
      "Parsing OHCO level 0 chap_id by milestone ^CHAPTER \n",
      "line_str chap_str\n",
      "Index(['chap_str'], dtype='object')\n",
      "Parsing OHCO level 1 para_num by delimitter \\n\\n\n",
      "Parsing OHCO level 2 sent_num by NLTK model\n",
      "Parsing OHCO level 3 token_num by NLTK model\n",
      "Tokenizing 2701 MOBY DICK OR THE WHALE\n",
      "Importing  /Users/michaelvaden/GithubRepos/DS5001-Workplace/data/austen-melville-set/MELVILLE_HERMAN_MOBY_DICK_OR_THE_WHALE-pg2701.txt\n",
      "Clipping text\n",
      "Parsing OHCO level 0 chap_id by milestone ^(?:ETYMOLOGY|EXTRACTS|CHAPTER)\n",
      "line_str chap_str\n",
      "Index(['chap_str'], dtype='object')\n",
      "Parsing OHCO level 1 para_num by delimitter \\n\\n\n",
      "Parsing OHCO level 2 sent_num by NLTK model\n",
      "Parsing OHCO level 3 token_num by NLTK model\n",
      "Tokenizing 4045 OMOO ADVENTURES IN THE SOUTH SEAS\n",
      "Importing  /Users/michaelvaden/GithubRepos/DS5001-Workplace/data/austen-melville-set/MELVILLE_HERMAN_OMOO_ADVENTURES_IN_THE_SOUTH_SEAS-pg4045.txt\n",
      "Clipping text\n",
      "Parsing OHCO level 0 chap_id by milestone ^\\s*CHAPTER\\s+[IVXLCM]+\\.\\s*$\n",
      "line_str chap_str\n",
      "Index(['chap_str'], dtype='object')\n",
      "Parsing OHCO level 1 para_num by delimitter \\n\\n\n",
      "Parsing OHCO level 2 sent_num by NLTK model\n",
      "Parsing OHCO level 3 token_num by NLTK model\n",
      "Tokenizing 8118 REDBURN HIS FIRST VOYAGE BEING THE SAILOR BOY CONFESSIONS AND REMINISCENCES OF THE SON OF A GENTLEMAN IN THE MERCHANT NAVY\n",
      "Importing  /Users/michaelvaden/GithubRepos/DS5001-Workplace/data/austen-melville-set/MELVILLE_HERMAN_REDBURN_HIS_FIRST_VOYAGE_BEING_THE_SAILOR_BOY_CONFESSIONS_AND_REMINISCENCES_OF_THE_SON_OF_A_GENTLEMAN_IN_THE_MERCHANT_NAVY-pg8118.txt\n",
      "Clipping text\n",
      "Parsing OHCO level 0 chap_id by milestone ^\\s*[IVXLCM]+\\. .*$\n",
      "line_str chap_str\n",
      "Index(['chap_str'], dtype='object')\n",
      "Parsing OHCO level 1 para_num by delimitter \\n\\n\n",
      "Parsing OHCO level 2 sent_num by NLTK model\n",
      "Parsing OHCO level 3 token_num by NLTK model\n",
      "Tokenizing 10712 WHITE JACKET OR THE WORLD ON A MAN OF WAR\n",
      "Importing  /Users/michaelvaden/GithubRepos/DS5001-Workplace/data/austen-melville-set/MELVILLE_HERMAN_WHITE_JACKET_OR_THE_WORLD_ON_A_MAN_OF_WAR-pg10712.txt\n",
      "Clipping text\n",
      "Parsing OHCO level 0 chap_id by milestone ^CHAPTER\\s+[IVXLCM]+\\.\\s*$\n",
      "line_str chap_str\n",
      "Index(['chap_str'], dtype='object')\n",
      "Parsing OHCO level 1 para_num by delimitter \\n\\n\n",
      "Parsing OHCO level 2 sent_num by NLTK model\n",
      "Parsing OHCO level 3 token_num by NLTK model\n",
      "Tokenizing 13720 MARDI AND A VOYAGE THITHER VOL I\n",
      "Importing  /Users/michaelvaden/GithubRepos/DS5001-Workplace/data/austen-melville-set/MELVILLE_HERMAN_MARDI_AND_A_VOYAGE_THITHER_VOL_I-pg13720.txt\n",
      "Clipping text\n",
      "Parsing OHCO level 0 chap_id by milestone ^\\s*CHAPTER\\s+[IVXLCM]+\\s*$\n",
      "line_str chap_str\n",
      "Index(['chap_str'], dtype='object')\n",
      "Parsing OHCO level 1 para_num by delimitter \\n\\n\n",
      "Parsing OHCO level 2 sent_num by NLTK model\n",
      "Parsing OHCO level 3 token_num by NLTK model\n",
      "Tokenizing 13721 MARDI AND A VOYAGE THITHER VOL II\n",
      "Importing  /Users/michaelvaden/GithubRepos/DS5001-Workplace/data/austen-melville-set/MELVILLE_HERMAN_MARDI_AND_A_VOYAGE_THITHER_VOL_II-pg13721.txt\n",
      "Clipping text\n",
      "Parsing OHCO level 0 chap_id by milestone ^\\s*CHAPTER\\s+[IVXLCM]+\\s*$\n",
      "line_str chap_str\n",
      "Index(['chap_str'], dtype='object')\n",
      "Parsing OHCO level 1 para_num by delimitter \\n\\n\n",
      "Parsing OHCO level 2 sent_num by NLTK model\n",
      "Parsing OHCO level 3 token_num by NLTK model\n",
      "Tokenizing 15422 ISRAEL POTTER HIS FIFTY YEARS OF EXILE\n",
      "Importing  /Users/michaelvaden/GithubRepos/DS5001-Workplace/data/austen-melville-set/MELVILLE_HERMAN_ISRAEL_POTTER_HIS_FIFTY_YEARS_OF_EXILE-pg15422.txt\n",
      "Clipping text\n",
      "Parsing OHCO level 0 chap_id by milestone ^\\s*CHAPTER\\s+[IVXLCM]+\\.\n",
      "line_str chap_str\n",
      "Index(['chap_str'], dtype='object')\n",
      "Parsing OHCO level 1 para_num by delimitter \\n\\n\n",
      "Parsing OHCO level 2 sent_num by NLTK model\n",
      "Parsing OHCO level 3 token_num by NLTK model\n",
      "Tokenizing 15859 THE PIAZZA TALES\n",
      "Importing  /Users/michaelvaden/GithubRepos/DS5001-Workplace/data/austen-melville-set/MELVILLE_HERMAN_THE_PIAZZA_TALES-pg15859.txt\n",
      "Clipping text\n",
      "Parsing OHCO level 0 chap_id by milestone ^\\s*[A-Z,;-]+\\.\\s*$\n",
      "line_str chap_str\n",
      "Index(['chap_str'], dtype='object')\n",
      "Parsing OHCO level 1 para_num by delimitter \\n\\n\n",
      "Parsing OHCO level 2 sent_num by NLTK model\n",
      "Parsing OHCO level 3 token_num by NLTK model\n",
      "Tokenizing 21816 THE CONFIDENCE MAN HIS MASQUERADE\n",
      "Importing  /Users/michaelvaden/GithubRepos/DS5001-Workplace/data/austen-melville-set/MELVILLE_HERMAN_THE_CONFIDENCE_MAN_HIS_MASQUERADE-pg21816.txt\n",
      "Clipping text\n",
      "Parsing OHCO level 0 chap_id by milestone ^CHAPTER\\s+[IVXLCM]+\\.?$\n",
      "line_str chap_str\n",
      "Index(['chap_str'], dtype='object')\n",
      "Parsing OHCO level 1 para_num by delimitter \\n\\n\n",
      "Parsing OHCO level 2 sent_num by NLTK model\n",
      "Parsing OHCO level 3 token_num by NLTK model\n",
      "Tokenizing 34970 PIERRE OR THE AMBIGUITIES\n",
      "Importing  /Users/michaelvaden/GithubRepos/DS5001-Workplace/data/austen-melville-set/MELVILLE_HERMAN_PIERRE_OR_THE_AMBIGUITIES-pg34970.txt\n",
      "Clipping text\n",
      "Parsing OHCO level 0 chap_id by milestone ^\\s*[IVXLCM]+\\.\\s*$\n",
      "line_str chap_str\n",
      "Index(['chap_str'], dtype='object')\n",
      "Parsing OHCO level 1 para_num by delimitter \\n\\n\n",
      "Parsing OHCO level 2 sent_num by NLTK model\n",
      "Parsing OHCO level 3 token_num by NLTK model\n",
      "Done\n"
     ]
    }
   ],
   "source": [
    "CORPUS = tokenize_collection(LIB)"
   ]
  },
  {
   "attachments": {},
   "cell_type": "markdown",
   "metadata": {
    "tags": []
   },
   "source": [
    "## Extract some features for `LIB`"
   ]
  },
  {
   "cell_type": "code",
   "execution_count": 26,
   "metadata": {},
   "outputs": [],
   "source": [
    "LIB['book_len'] = CORPUS.groupby('book_id').term_str.count()"
   ]
  },
  {
   "cell_type": "code",
   "execution_count": 27,
   "metadata": {},
   "outputs": [
    {
     "data": {
      "text/html": [
       "<div>\n",
       "<style scoped>\n",
       "    .dataframe tbody tr th:only-of-type {\n",
       "        vertical-align: middle;\n",
       "    }\n",
       "\n",
       "    .dataframe tbody tr th {\n",
       "        vertical-align: top;\n",
       "    }\n",
       "\n",
       "    .dataframe thead th {\n",
       "        text-align: right;\n",
       "    }\n",
       "</style>\n",
       "<table border=\"1\" class=\"dataframe\">\n",
       "  <thead>\n",
       "    <tr style=\"text-align: right;\">\n",
       "      <th></th>\n",
       "      <th>source_file_path</th>\n",
       "      <th>author</th>\n",
       "      <th>title</th>\n",
       "      <th>chap_regex</th>\n",
       "      <th>book_len</th>\n",
       "    </tr>\n",
       "    <tr>\n",
       "      <th>book_id</th>\n",
       "      <th></th>\n",
       "      <th></th>\n",
       "      <th></th>\n",
       "      <th></th>\n",
       "      <th></th>\n",
       "    </tr>\n",
       "  </thead>\n",
       "  <tbody>\n",
       "    <tr>\n",
       "      <th>946</th>\n",
       "      <td>/Users/michaelvaden/GithubRepos/DS5001-Workpla...</td>\n",
       "      <td>AUSTEN, JANE</td>\n",
       "      <td>LADY SUSAN</td>\n",
       "      <td>^\\s*[IVXLCM]+\\s*$</td>\n",
       "      <td>23116</td>\n",
       "    </tr>\n",
       "    <tr>\n",
       "      <th>1212</th>\n",
       "      <td>/Users/michaelvaden/GithubRepos/DS5001-Workpla...</td>\n",
       "      <td>AUSTEN, JANE</td>\n",
       "      <td>LOVE AND FREINDSHIP SIC</td>\n",
       "      <td>^\\s*LETTER .* to .*$</td>\n",
       "      <td>33265</td>\n",
       "    </tr>\n",
       "    <tr>\n",
       "      <th>15422</th>\n",
       "      <td>/Users/michaelvaden/GithubRepos/DS5001-Workpla...</td>\n",
       "      <td>MELVILLE, HERMAN</td>\n",
       "      <td>ISRAEL POTTER HIS FIFTY YEARS OF EXILE</td>\n",
       "      <td>^\\s*CHAPTER\\s+[IVXLCM]+\\.</td>\n",
       "      <td>65516</td>\n",
       "    </tr>\n",
       "    <tr>\n",
       "      <th>15859</th>\n",
       "      <td>/Users/michaelvaden/GithubRepos/DS5001-Workpla...</td>\n",
       "      <td>MELVILLE, HERMAN</td>\n",
       "      <td>THE PIAZZA TALES</td>\n",
       "      <td>^\\s*[A-Z,;-]+\\.\\s*$</td>\n",
       "      <td>75491</td>\n",
       "    </tr>\n",
       "    <tr>\n",
       "      <th>121</th>\n",
       "      <td>/Users/michaelvaden/GithubRepos/DS5001-Workpla...</td>\n",
       "      <td>AUSTEN, JANE</td>\n",
       "      <td>NORTHANGER ABBEY</td>\n",
       "      <td>^CHAPTER\\s+\\d+$</td>\n",
       "      <td>77601</td>\n",
       "    </tr>\n",
       "    <tr>\n",
       "      <th>105</th>\n",
       "      <td>/Users/michaelvaden/GithubRepos/DS5001-Workpla...</td>\n",
       "      <td>AUSTEN, JANE</td>\n",
       "      <td>PERSUASION</td>\n",
       "      <td>^Chapter\\s+\\d+$</td>\n",
       "      <td>83624</td>\n",
       "    </tr>\n",
       "    <tr>\n",
       "      <th>21816</th>\n",
       "      <td>/Users/michaelvaden/GithubRepos/DS5001-Workpla...</td>\n",
       "      <td>MELVILLE, HERMAN</td>\n",
       "      <td>THE CONFIDENCE MAN HIS MASQUERADE</td>\n",
       "      <td>^CHAPTER\\s+[IVXLCM]+\\.?$</td>\n",
       "      <td>95315</td>\n",
       "    </tr>\n",
       "    <tr>\n",
       "      <th>13720</th>\n",
       "      <td>/Users/michaelvaden/GithubRepos/DS5001-Workpla...</td>\n",
       "      <td>MELVILLE, HERMAN</td>\n",
       "      <td>MARDI AND A VOYAGE THITHER VOL I</td>\n",
       "      <td>^\\s*CHAPTER\\s+[IVXLCM]+\\s*$</td>\n",
       "      <td>96878</td>\n",
       "    </tr>\n",
       "    <tr>\n",
       "      <th>13721</th>\n",
       "      <td>/Users/michaelvaden/GithubRepos/DS5001-Workpla...</td>\n",
       "      <td>MELVILLE, HERMAN</td>\n",
       "      <td>MARDI AND A VOYAGE THITHER VOL II</td>\n",
       "      <td>^\\s*CHAPTER\\s+[IVXLCM]+\\s*$</td>\n",
       "      <td>102092</td>\n",
       "    </tr>\n",
       "    <tr>\n",
       "      <th>4045</th>\n",
       "      <td>/Users/michaelvaden/GithubRepos/DS5001-Workpla...</td>\n",
       "      <td>MELVILLE, HERMAN</td>\n",
       "      <td>OMOO ADVENTURES IN THE SOUTH SEAS</td>\n",
       "      <td>^\\s*CHAPTER\\s+[IVXLCM]+\\.\\s*$</td>\n",
       "      <td>102352</td>\n",
       "    </tr>\n",
       "    <tr>\n",
       "      <th>1900</th>\n",
       "      <td>/Users/michaelvaden/GithubRepos/DS5001-Workpla...</td>\n",
       "      <td>MELVILLE, HERMAN</td>\n",
       "      <td>TYPEE A ROMANCE OF THE SOUTH SEAS</td>\n",
       "      <td>^CHAPTER</td>\n",
       "      <td>108021</td>\n",
       "    </tr>\n",
       "    <tr>\n",
       "      <th>8118</th>\n",
       "      <td>/Users/michaelvaden/GithubRepos/DS5001-Workpla...</td>\n",
       "      <td>MELVILLE, HERMAN</td>\n",
       "      <td>REDBURN HIS FIRST VOYAGE BEING THE SAILOR BOY ...</td>\n",
       "      <td>^\\s*[IVXLCM]+\\. .*$</td>\n",
       "      <td>119243</td>\n",
       "    </tr>\n",
       "    <tr>\n",
       "      <th>161</th>\n",
       "      <td>/Users/michaelvaden/GithubRepos/DS5001-Workpla...</td>\n",
       "      <td>AUSTEN, JANE</td>\n",
       "      <td>SENSE AND SENSIBILITY</td>\n",
       "      <td>^CHAPTER\\s+\\d+$</td>\n",
       "      <td>119873</td>\n",
       "    </tr>\n",
       "    <tr>\n",
       "      <th>1342</th>\n",
       "      <td>/Users/michaelvaden/GithubRepos/DS5001-Workpla...</td>\n",
       "      <td>AUSTEN, JANE</td>\n",
       "      <td>PRIDE AND PREJUDICE</td>\n",
       "      <td>^Chapter\\s+\\d+$</td>\n",
       "      <td>122126</td>\n",
       "    </tr>\n",
       "    <tr>\n",
       "      <th>10712</th>\n",
       "      <td>/Users/michaelvaden/GithubRepos/DS5001-Workpla...</td>\n",
       "      <td>MELVILLE, HERMAN</td>\n",
       "      <td>WHITE JACKET OR THE WORLD ON A MAN OF WAR</td>\n",
       "      <td>^CHAPTER\\s+[IVXLCM]+\\.\\s*$</td>\n",
       "      <td>143310</td>\n",
       "    </tr>\n",
       "    <tr>\n",
       "      <th>34970</th>\n",
       "      <td>/Users/michaelvaden/GithubRepos/DS5001-Workpla...</td>\n",
       "      <td>MELVILLE, HERMAN</td>\n",
       "      <td>PIERRE OR THE AMBIGUITIES</td>\n",
       "      <td>^\\s*[IVXLCM]+\\.\\s*$</td>\n",
       "      <td>155056</td>\n",
       "    </tr>\n",
       "    <tr>\n",
       "      <th>141</th>\n",
       "      <td>/Users/michaelvaden/GithubRepos/DS5001-Workpla...</td>\n",
       "      <td>AUSTEN, JANE</td>\n",
       "      <td>MANSFIELD PARK</td>\n",
       "      <td>^CHAPTER\\s+[IVXLCM]+$</td>\n",
       "      <td>160378</td>\n",
       "    </tr>\n",
       "    <tr>\n",
       "      <th>158</th>\n",
       "      <td>/Users/michaelvaden/GithubRepos/DS5001-Workpla...</td>\n",
       "      <td>AUSTEN, JANE</td>\n",
       "      <td>EMMA</td>\n",
       "      <td>^\\s*CHAPTER\\s+[IVXLCM]+\\s*$</td>\n",
       "      <td>160926</td>\n",
       "    </tr>\n",
       "    <tr>\n",
       "      <th>2701</th>\n",
       "      <td>/Users/michaelvaden/GithubRepos/DS5001-Workpla...</td>\n",
       "      <td>MELVILLE, HERMAN</td>\n",
       "      <td>MOBY DICK OR THE WHALE</td>\n",
       "      <td>^(?:ETYMOLOGY|EXTRACTS|CHAPTER)</td>\n",
       "      <td>215504</td>\n",
       "    </tr>\n",
       "  </tbody>\n",
       "</table>\n",
       "</div>"
      ],
      "text/plain": [
       "                                          source_file_path  ... book_len\n",
       "book_id                                                     ...         \n",
       "946      /Users/michaelvaden/GithubRepos/DS5001-Workpla...  ...    23116\n",
       "1212     /Users/michaelvaden/GithubRepos/DS5001-Workpla...  ...    33265\n",
       "15422    /Users/michaelvaden/GithubRepos/DS5001-Workpla...  ...    65516\n",
       "15859    /Users/michaelvaden/GithubRepos/DS5001-Workpla...  ...    75491\n",
       "121      /Users/michaelvaden/GithubRepos/DS5001-Workpla...  ...    77601\n",
       "105      /Users/michaelvaden/GithubRepos/DS5001-Workpla...  ...    83624\n",
       "21816    /Users/michaelvaden/GithubRepos/DS5001-Workpla...  ...    95315\n",
       "13720    /Users/michaelvaden/GithubRepos/DS5001-Workpla...  ...    96878\n",
       "13721    /Users/michaelvaden/GithubRepos/DS5001-Workpla...  ...   102092\n",
       "4045     /Users/michaelvaden/GithubRepos/DS5001-Workpla...  ...   102352\n",
       "1900     /Users/michaelvaden/GithubRepos/DS5001-Workpla...  ...   108021\n",
       "8118     /Users/michaelvaden/GithubRepos/DS5001-Workpla...  ...   119243\n",
       "161      /Users/michaelvaden/GithubRepos/DS5001-Workpla...  ...   119873\n",
       "1342     /Users/michaelvaden/GithubRepos/DS5001-Workpla...  ...   122126\n",
       "10712    /Users/michaelvaden/GithubRepos/DS5001-Workpla...  ...   143310\n",
       "34970    /Users/michaelvaden/GithubRepos/DS5001-Workpla...  ...   155056\n",
       "141      /Users/michaelvaden/GithubRepos/DS5001-Workpla...  ...   160378\n",
       "158      /Users/michaelvaden/GithubRepos/DS5001-Workpla...  ...   160926\n",
       "2701     /Users/michaelvaden/GithubRepos/DS5001-Workpla...  ...   215504\n",
       "\n",
       "[19 rows x 5 columns]"
      ]
     },
     "execution_count": 27,
     "metadata": {},
     "output_type": "execute_result"
    }
   ],
   "source": [
    "LIB.sort_values('book_len')"
   ]
  },
  {
   "cell_type": "code",
   "execution_count": 28,
   "metadata": {},
   "outputs": [],
   "source": [
    "LIB['n_chaps'] = CORPUS.reset_index()[['book_id','chap_id']]\\\n",
    "    .drop_duplicates()\\\n",
    "    .groupby('book_id').chap_id.count()"
   ]
  },
  {
   "attachments": {},
   "cell_type": "markdown",
   "metadata": {},
   "source": [
    "# Explore"
   ]
  },
  {
   "cell_type": "code",
   "execution_count": 29,
   "metadata": {},
   "outputs": [
    {
     "data": {
      "application/vnd.plotly.v1+json": {
       "config": {
        "plotlyServerURL": "https://plot.ly"
       },
       "data": [
        {
         "hovertemplate": "<b>%{hovertext}</b><br><br>author=AUSTEN, JANE<br>n_chaps=%{text}<br>book_len=%{marker.size}<extra></extra>",
         "hovertext": [
          "PERSUASION",
          "NORTHANGER ABBEY",
          "MANSFIELD PARK",
          "EMMA",
          "SENSE AND SENSIBILITY",
          "LADY SUSAN",
          "LOVE AND FREINDSHIP SIC",
          "PRIDE AND PREJUDICE"
         ],
         "legendgroup": "AUSTEN, JANE",
         "marker": {
          "color": "#636efa",
          "size": [
           83624,
           77601,
           160378,
           160926,
           119873,
           23116,
           33265,
           122126
          ],
          "sizemode": "area",
          "sizeref": 538.76,
          "symbol": "circle"
         },
         "mode": "markers+text",
         "name": "AUSTEN, JANE",
         "orientation": "v",
         "showlegend": true,
         "text": [
          24,
          31,
          48,
          55,
          50,
          41,
          24,
          61
         ],
         "type": "scatter",
         "x": [
          24,
          31,
          48,
          55,
          50,
          41,
          24,
          61
         ],
         "xaxis": "x",
         "y": [
          83624,
          77601,
          160378,
          160926,
          119873,
          23116,
          33265,
          122126
         ],
         "yaxis": "y"
        },
        {
         "hovertemplate": "<b>%{hovertext}</b><br><br>author=MELVILLE, HERMAN<br>n_chaps=%{text}<br>book_len=%{marker.size}<extra></extra>",
         "hovertext": [
          "TYPEE A ROMANCE OF THE SOUTH SEAS",
          "MOBY DICK OR THE WHALE",
          "OMOO ADVENTURES IN THE SOUTH SEAS",
          "REDBURN HIS FIRST VOYAGE BEING THE SAILOR BOY CONFESSIONS AND REMINISCENCES OF THE SON OF A GENTLEMAN IN THE MERCHANT NAVY",
          "WHITE JACKET OR THE WORLD ON A MAN OF WAR",
          "MARDI AND A VOYAGE THITHER VOL I",
          "MARDI AND A VOYAGE THITHER VOL II",
          "ISRAEL POTTER HIS FIFTY YEARS OF EXILE",
          "THE PIAZZA TALES",
          "THE CONFIDENCE MAN HIS MASQUERADE",
          "PIERRE OR THE AMBIGUITIES"
         ],
         "legendgroup": "MELVILLE, HERMAN",
         "marker": {
          "color": "#EF553B",
          "size": [
           108021,
           215504,
           102352,
           119243,
           143310,
           96878,
           102092,
           65516,
           75491,
           95315,
           155056
          ],
          "sizemode": "area",
          "sizeref": 538.76,
          "symbol": "circle"
         },
         "mode": "markers+text",
         "name": "MELVILLE, HERMAN",
         "orientation": "v",
         "showlegend": true,
         "text": [
          34,
          138,
          82,
          78,
          92,
          104,
          91,
          27,
          1,
          90,
          114
         ],
         "type": "scatter",
         "x": [
          34,
          138,
          82,
          78,
          92,
          104,
          91,
          27,
          1,
          90,
          114
         ],
         "xaxis": "x",
         "y": [
          108021,
          215504,
          102352,
          119243,
          143310,
          96878,
          102092,
          65516,
          75491,
          95315,
          155056
         ],
         "yaxis": "y"
        }
       ],
       "layout": {
        "height": 500,
        "legend": {
         "itemsizing": "constant",
         "title": {
          "text": "author"
         },
         "tracegroupgap": 0
        },
        "margin": {
         "t": 60
        },
        "template": {
         "data": {
          "bar": [
           {
            "error_x": {
             "color": "#2a3f5f"
            },
            "error_y": {
             "color": "#2a3f5f"
            },
            "marker": {
             "line": {
              "color": "#E5ECF6",
              "width": 0.5
             },
             "pattern": {
              "fillmode": "overlay",
              "size": 10,
              "solidity": 0.2
             }
            },
            "type": "bar"
           }
          ],
          "barpolar": [
           {
            "marker": {
             "line": {
              "color": "#E5ECF6",
              "width": 0.5
             },
             "pattern": {
              "fillmode": "overlay",
              "size": 10,
              "solidity": 0.2
             }
            },
            "type": "barpolar"
           }
          ],
          "carpet": [
           {
            "aaxis": {
             "endlinecolor": "#2a3f5f",
             "gridcolor": "white",
             "linecolor": "white",
             "minorgridcolor": "white",
             "startlinecolor": "#2a3f5f"
            },
            "baxis": {
             "endlinecolor": "#2a3f5f",
             "gridcolor": "white",
             "linecolor": "white",
             "minorgridcolor": "white",
             "startlinecolor": "#2a3f5f"
            },
            "type": "carpet"
           }
          ],
          "choropleth": [
           {
            "colorbar": {
             "outlinewidth": 0,
             "ticks": ""
            },
            "type": "choropleth"
           }
          ],
          "contour": [
           {
            "colorbar": {
             "outlinewidth": 0,
             "ticks": ""
            },
            "colorscale": [
             [
              0,
              "#0d0887"
             ],
             [
              0.1111111111111111,
              "#46039f"
             ],
             [
              0.2222222222222222,
              "#7201a8"
             ],
             [
              0.3333333333333333,
              "#9c179e"
             ],
             [
              0.4444444444444444,
              "#bd3786"
             ],
             [
              0.5555555555555556,
              "#d8576b"
             ],
             [
              0.6666666666666666,
              "#ed7953"
             ],
             [
              0.7777777777777778,
              "#fb9f3a"
             ],
             [
              0.8888888888888888,
              "#fdca26"
             ],
             [
              1,
              "#f0f921"
             ]
            ],
            "type": "contour"
           }
          ],
          "contourcarpet": [
           {
            "colorbar": {
             "outlinewidth": 0,
             "ticks": ""
            },
            "type": "contourcarpet"
           }
          ],
          "heatmap": [
           {
            "colorbar": {
             "outlinewidth": 0,
             "ticks": ""
            },
            "colorscale": [
             [
              0,
              "#0d0887"
             ],
             [
              0.1111111111111111,
              "#46039f"
             ],
             [
              0.2222222222222222,
              "#7201a8"
             ],
             [
              0.3333333333333333,
              "#9c179e"
             ],
             [
              0.4444444444444444,
              "#bd3786"
             ],
             [
              0.5555555555555556,
              "#d8576b"
             ],
             [
              0.6666666666666666,
              "#ed7953"
             ],
             [
              0.7777777777777778,
              "#fb9f3a"
             ],
             [
              0.8888888888888888,
              "#fdca26"
             ],
             [
              1,
              "#f0f921"
             ]
            ],
            "type": "heatmap"
           }
          ],
          "heatmapgl": [
           {
            "colorbar": {
             "outlinewidth": 0,
             "ticks": ""
            },
            "colorscale": [
             [
              0,
              "#0d0887"
             ],
             [
              0.1111111111111111,
              "#46039f"
             ],
             [
              0.2222222222222222,
              "#7201a8"
             ],
             [
              0.3333333333333333,
              "#9c179e"
             ],
             [
              0.4444444444444444,
              "#bd3786"
             ],
             [
              0.5555555555555556,
              "#d8576b"
             ],
             [
              0.6666666666666666,
              "#ed7953"
             ],
             [
              0.7777777777777778,
              "#fb9f3a"
             ],
             [
              0.8888888888888888,
              "#fdca26"
             ],
             [
              1,
              "#f0f921"
             ]
            ],
            "type": "heatmapgl"
           }
          ],
          "histogram": [
           {
            "marker": {
             "pattern": {
              "fillmode": "overlay",
              "size": 10,
              "solidity": 0.2
             }
            },
            "type": "histogram"
           }
          ],
          "histogram2d": [
           {
            "colorbar": {
             "outlinewidth": 0,
             "ticks": ""
            },
            "colorscale": [
             [
              0,
              "#0d0887"
             ],
             [
              0.1111111111111111,
              "#46039f"
             ],
             [
              0.2222222222222222,
              "#7201a8"
             ],
             [
              0.3333333333333333,
              "#9c179e"
             ],
             [
              0.4444444444444444,
              "#bd3786"
             ],
             [
              0.5555555555555556,
              "#d8576b"
             ],
             [
              0.6666666666666666,
              "#ed7953"
             ],
             [
              0.7777777777777778,
              "#fb9f3a"
             ],
             [
              0.8888888888888888,
              "#fdca26"
             ],
             [
              1,
              "#f0f921"
             ]
            ],
            "type": "histogram2d"
           }
          ],
          "histogram2dcontour": [
           {
            "colorbar": {
             "outlinewidth": 0,
             "ticks": ""
            },
            "colorscale": [
             [
              0,
              "#0d0887"
             ],
             [
              0.1111111111111111,
              "#46039f"
             ],
             [
              0.2222222222222222,
              "#7201a8"
             ],
             [
              0.3333333333333333,
              "#9c179e"
             ],
             [
              0.4444444444444444,
              "#bd3786"
             ],
             [
              0.5555555555555556,
              "#d8576b"
             ],
             [
              0.6666666666666666,
              "#ed7953"
             ],
             [
              0.7777777777777778,
              "#fb9f3a"
             ],
             [
              0.8888888888888888,
              "#fdca26"
             ],
             [
              1,
              "#f0f921"
             ]
            ],
            "type": "histogram2dcontour"
           }
          ],
          "mesh3d": [
           {
            "colorbar": {
             "outlinewidth": 0,
             "ticks": ""
            },
            "type": "mesh3d"
           }
          ],
          "parcoords": [
           {
            "line": {
             "colorbar": {
              "outlinewidth": 0,
              "ticks": ""
             }
            },
            "type": "parcoords"
           }
          ],
          "pie": [
           {
            "automargin": true,
            "type": "pie"
           }
          ],
          "scatter": [
           {
            "fillpattern": {
             "fillmode": "overlay",
             "size": 10,
             "solidity": 0.2
            },
            "type": "scatter"
           }
          ],
          "scatter3d": [
           {
            "line": {
             "colorbar": {
              "outlinewidth": 0,
              "ticks": ""
             }
            },
            "marker": {
             "colorbar": {
              "outlinewidth": 0,
              "ticks": ""
             }
            },
            "type": "scatter3d"
           }
          ],
          "scattercarpet": [
           {
            "marker": {
             "colorbar": {
              "outlinewidth": 0,
              "ticks": ""
             }
            },
            "type": "scattercarpet"
           }
          ],
          "scattergeo": [
           {
            "marker": {
             "colorbar": {
              "outlinewidth": 0,
              "ticks": ""
             }
            },
            "type": "scattergeo"
           }
          ],
          "scattergl": [
           {
            "marker": {
             "colorbar": {
              "outlinewidth": 0,
              "ticks": ""
             }
            },
            "type": "scattergl"
           }
          ],
          "scattermapbox": [
           {
            "marker": {
             "colorbar": {
              "outlinewidth": 0,
              "ticks": ""
             }
            },
            "type": "scattermapbox"
           }
          ],
          "scatterpolar": [
           {
            "marker": {
             "colorbar": {
              "outlinewidth": 0,
              "ticks": ""
             }
            },
            "type": "scatterpolar"
           }
          ],
          "scatterpolargl": [
           {
            "marker": {
             "colorbar": {
              "outlinewidth": 0,
              "ticks": ""
             }
            },
            "type": "scatterpolargl"
           }
          ],
          "scatterternary": [
           {
            "marker": {
             "colorbar": {
              "outlinewidth": 0,
              "ticks": ""
             }
            },
            "type": "scatterternary"
           }
          ],
          "surface": [
           {
            "colorbar": {
             "outlinewidth": 0,
             "ticks": ""
            },
            "colorscale": [
             [
              0,
              "#0d0887"
             ],
             [
              0.1111111111111111,
              "#46039f"
             ],
             [
              0.2222222222222222,
              "#7201a8"
             ],
             [
              0.3333333333333333,
              "#9c179e"
             ],
             [
              0.4444444444444444,
              "#bd3786"
             ],
             [
              0.5555555555555556,
              "#d8576b"
             ],
             [
              0.6666666666666666,
              "#ed7953"
             ],
             [
              0.7777777777777778,
              "#fb9f3a"
             ],
             [
              0.8888888888888888,
              "#fdca26"
             ],
             [
              1,
              "#f0f921"
             ]
            ],
            "type": "surface"
           }
          ],
          "table": [
           {
            "cells": {
             "fill": {
              "color": "#EBF0F8"
             },
             "line": {
              "color": "white"
             }
            },
            "header": {
             "fill": {
              "color": "#C8D4E3"
             },
             "line": {
              "color": "white"
             }
            },
            "type": "table"
           }
          ]
         },
         "layout": {
          "annotationdefaults": {
           "arrowcolor": "#2a3f5f",
           "arrowhead": 0,
           "arrowwidth": 1
          },
          "autotypenumbers": "strict",
          "coloraxis": {
           "colorbar": {
            "outlinewidth": 0,
            "ticks": ""
           }
          },
          "colorscale": {
           "diverging": [
            [
             0,
             "#8e0152"
            ],
            [
             0.1,
             "#c51b7d"
            ],
            [
             0.2,
             "#de77ae"
            ],
            [
             0.3,
             "#f1b6da"
            ],
            [
             0.4,
             "#fde0ef"
            ],
            [
             0.5,
             "#f7f7f7"
            ],
            [
             0.6,
             "#e6f5d0"
            ],
            [
             0.7,
             "#b8e186"
            ],
            [
             0.8,
             "#7fbc41"
            ],
            [
             0.9,
             "#4d9221"
            ],
            [
             1,
             "#276419"
            ]
           ],
           "sequential": [
            [
             0,
             "#0d0887"
            ],
            [
             0.1111111111111111,
             "#46039f"
            ],
            [
             0.2222222222222222,
             "#7201a8"
            ],
            [
             0.3333333333333333,
             "#9c179e"
            ],
            [
             0.4444444444444444,
             "#bd3786"
            ],
            [
             0.5555555555555556,
             "#d8576b"
            ],
            [
             0.6666666666666666,
             "#ed7953"
            ],
            [
             0.7777777777777778,
             "#fb9f3a"
            ],
            [
             0.8888888888888888,
             "#fdca26"
            ],
            [
             1,
             "#f0f921"
            ]
           ],
           "sequentialminus": [
            [
             0,
             "#0d0887"
            ],
            [
             0.1111111111111111,
             "#46039f"
            ],
            [
             0.2222222222222222,
             "#7201a8"
            ],
            [
             0.3333333333333333,
             "#9c179e"
            ],
            [
             0.4444444444444444,
             "#bd3786"
            ],
            [
             0.5555555555555556,
             "#d8576b"
            ],
            [
             0.6666666666666666,
             "#ed7953"
            ],
            [
             0.7777777777777778,
             "#fb9f3a"
            ],
            [
             0.8888888888888888,
             "#fdca26"
            ],
            [
             1,
             "#f0f921"
            ]
           ]
          },
          "colorway": [
           "#636efa",
           "#EF553B",
           "#00cc96",
           "#ab63fa",
           "#FFA15A",
           "#19d3f3",
           "#FF6692",
           "#B6E880",
           "#FF97FF",
           "#FECB52"
          ],
          "font": {
           "color": "#2a3f5f"
          },
          "geo": {
           "bgcolor": "white",
           "lakecolor": "white",
           "landcolor": "#E5ECF6",
           "showlakes": true,
           "showland": true,
           "subunitcolor": "white"
          },
          "hoverlabel": {
           "align": "left"
          },
          "hovermode": "closest",
          "mapbox": {
           "style": "light"
          },
          "paper_bgcolor": "white",
          "plot_bgcolor": "#E5ECF6",
          "polar": {
           "angularaxis": {
            "gridcolor": "white",
            "linecolor": "white",
            "ticks": ""
           },
           "bgcolor": "#E5ECF6",
           "radialaxis": {
            "gridcolor": "white",
            "linecolor": "white",
            "ticks": ""
           }
          },
          "scene": {
           "xaxis": {
            "backgroundcolor": "#E5ECF6",
            "gridcolor": "white",
            "gridwidth": 2,
            "linecolor": "white",
            "showbackground": true,
            "ticks": "",
            "zerolinecolor": "white"
           },
           "yaxis": {
            "backgroundcolor": "#E5ECF6",
            "gridcolor": "white",
            "gridwidth": 2,
            "linecolor": "white",
            "showbackground": true,
            "ticks": "",
            "zerolinecolor": "white"
           },
           "zaxis": {
            "backgroundcolor": "#E5ECF6",
            "gridcolor": "white",
            "gridwidth": 2,
            "linecolor": "white",
            "showbackground": true,
            "ticks": "",
            "zerolinecolor": "white"
           }
          },
          "shapedefaults": {
           "line": {
            "color": "#2a3f5f"
           }
          },
          "ternary": {
           "aaxis": {
            "gridcolor": "white",
            "linecolor": "white",
            "ticks": ""
           },
           "baxis": {
            "gridcolor": "white",
            "linecolor": "white",
            "ticks": ""
           },
           "bgcolor": "#E5ECF6",
           "caxis": {
            "gridcolor": "white",
            "linecolor": "white",
            "ticks": ""
           }
          },
          "title": {
           "x": 0.05
          },
          "xaxis": {
           "automargin": true,
           "gridcolor": "white",
           "linecolor": "white",
           "ticks": "",
           "title": {
            "standoff": 15
           },
           "zerolinecolor": "white",
           "zerolinewidth": 2
          },
          "yaxis": {
           "automargin": true,
           "gridcolor": "white",
           "linecolor": "white",
           "ticks": "",
           "title": {
            "standoff": 15
           },
           "zerolinecolor": "white",
           "zerolinewidth": 2
          }
         }
        },
        "width": 800,
        "xaxis": {
         "anchor": "y",
         "domain": [
          0,
          1
         ],
         "title": {
          "text": "n_chaps"
         }
        },
        "yaxis": {
         "anchor": "x",
         "domain": [
          0,
          1
         ],
         "title": {
          "text": "book_len"
         }
        }
       }
      }
     },
     "metadata": {},
     "output_type": "display_data"
    }
   ],
   "source": [
    "px.scatter(LIB, 'n_chaps', 'book_len', \n",
    "           color='author', text='n_chaps', size='book_len', \n",
    "           hover_name='title', width=800, height=500) "
   ]
  },
  {
   "cell_type": "code",
   "execution_count": 30,
   "metadata": {},
   "outputs": [
    {
     "data": {
      "text/html": [
       "<div>\n",
       "<style scoped>\n",
       "    .dataframe tbody tr th:only-of-type {\n",
       "        vertical-align: middle;\n",
       "    }\n",
       "\n",
       "    .dataframe tbody tr th {\n",
       "        vertical-align: top;\n",
       "    }\n",
       "\n",
       "    .dataframe thead tr th {\n",
       "        text-align: left;\n",
       "    }\n",
       "\n",
       "    .dataframe thead tr:last-of-type th {\n",
       "        text-align: right;\n",
       "    }\n",
       "</style>\n",
       "<table border=\"1\" class=\"dataframe\">\n",
       "  <thead>\n",
       "    <tr>\n",
       "      <th></th>\n",
       "      <th colspan=\"2\" halign=\"left\">book_len</th>\n",
       "      <th colspan=\"2\" halign=\"left\">n_chaps</th>\n",
       "    </tr>\n",
       "    <tr>\n",
       "      <th></th>\n",
       "      <th>mean</th>\n",
       "      <th>sum</th>\n",
       "      <th>mean</th>\n",
       "      <th>sum</th>\n",
       "    </tr>\n",
       "    <tr>\n",
       "      <th>author</th>\n",
       "      <th></th>\n",
       "      <th></th>\n",
       "      <th></th>\n",
       "      <th></th>\n",
       "    </tr>\n",
       "  </thead>\n",
       "  <tbody>\n",
       "    <tr>\n",
       "      <th>AUSTEN, JANE</th>\n",
       "      <td>97613.625000</td>\n",
       "      <td>780909</td>\n",
       "      <td>41.750000</td>\n",
       "      <td>334</td>\n",
       "    </tr>\n",
       "    <tr>\n",
       "      <th>MELVILLE, HERMAN</th>\n",
       "      <td>116252.545455</td>\n",
       "      <td>1278778</td>\n",
       "      <td>77.363636</td>\n",
       "      <td>851</td>\n",
       "    </tr>\n",
       "  </tbody>\n",
       "</table>\n",
       "</div>"
      ],
      "text/plain": [
       "                       book_len             n_chaps     \n",
       "                           mean      sum       mean  sum\n",
       "author                                                  \n",
       "AUSTEN, JANE       97613.625000   780909  41.750000  334\n",
       "MELVILLE, HERMAN  116252.545455  1278778  77.363636  851"
      ]
     },
     "execution_count": 30,
     "metadata": {},
     "output_type": "execute_result"
    }
   ],
   "source": [
    "LIB.groupby('author')[['book_len', 'n_chaps']].agg(('mean','sum'))"
   ]
  },
  {
   "attachments": {},
   "cell_type": "markdown",
   "metadata": {},
   "source": [
    "# Exract VOCAB\n",
    "\n",
    "Extract a vocabulary from the CORPUS as a whole"
   ]
  },
  {
   "attachments": {},
   "cell_type": "markdown",
   "metadata": {},
   "source": [
    "## Handle Anomalies\n",
    "\n",
    "NLTK's POS tagger is not perfect -- note the classification of punctuation as nouns, verbs, etc. We remove these from our corups."
   ]
  },
  {
   "cell_type": "code",
   "execution_count": 31,
   "metadata": {},
   "outputs": [
    {
     "data": {
      "text/html": [
       "<div>\n",
       "<style scoped>\n",
       "    .dataframe tbody tr th:only-of-type {\n",
       "        vertical-align: middle;\n",
       "    }\n",
       "\n",
       "    .dataframe tbody tr th {\n",
       "        vertical-align: top;\n",
       "    }\n",
       "\n",
       "    .dataframe thead th {\n",
       "        text-align: right;\n",
       "    }\n",
       "</style>\n",
       "<table border=\"1\" class=\"dataframe\">\n",
       "  <thead>\n",
       "    <tr style=\"text-align: right;\">\n",
       "      <th></th>\n",
       "      <th></th>\n",
       "      <th></th>\n",
       "      <th></th>\n",
       "      <th></th>\n",
       "      <th>pos_tuple</th>\n",
       "      <th>pos</th>\n",
       "      <th>token_str</th>\n",
       "      <th>term_str</th>\n",
       "    </tr>\n",
       "    <tr>\n",
       "      <th>book_id</th>\n",
       "      <th>chap_id</th>\n",
       "      <th>para_num</th>\n",
       "      <th>sent_num</th>\n",
       "      <th>token_num</th>\n",
       "      <th></th>\n",
       "      <th></th>\n",
       "      <th></th>\n",
       "      <th></th>\n",
       "    </tr>\n",
       "  </thead>\n",
       "  <tbody>\n",
       "    <tr>\n",
       "      <th rowspan=\"5\" valign=\"top\">105</th>\n",
       "      <th rowspan=\"2\" valign=\"top\">3</th>\n",
       "      <th>1</th>\n",
       "      <th>5</th>\n",
       "      <th>12</th>\n",
       "      <td>(\", NNP)</td>\n",
       "      <td>NNP</td>\n",
       "      <td>\"</td>\n",
       "      <td></td>\n",
       "    </tr>\n",
       "    <tr>\n",
       "      <th>17</th>\n",
       "      <th>6</th>\n",
       "      <th>22</th>\n",
       "      <td>(\", VBZ)</td>\n",
       "      <td>VBZ</td>\n",
       "      <td>\"</td>\n",
       "      <td></td>\n",
       "    </tr>\n",
       "    <tr>\n",
       "      <th>6</th>\n",
       "      <th>27</th>\n",
       "      <th>5</th>\n",
       "      <th>0</th>\n",
       "      <td>(),, NN)</td>\n",
       "      <td>NN</td>\n",
       "      <td>),</td>\n",
       "      <td></td>\n",
       "    </tr>\n",
       "    <tr>\n",
       "      <th>14</th>\n",
       "      <th>8</th>\n",
       "      <th>1</th>\n",
       "      <th>9</th>\n",
       "      <td>(\", VBP)</td>\n",
       "      <td>VBP</td>\n",
       "      <td>\"</td>\n",
       "      <td></td>\n",
       "    </tr>\n",
       "    <tr>\n",
       "      <th>20</th>\n",
       "      <th>8</th>\n",
       "      <th>4</th>\n",
       "      <th>14</th>\n",
       "      <td>(\", VB)</td>\n",
       "      <td>VB</td>\n",
       "      <td>\"</td>\n",
       "      <td></td>\n",
       "    </tr>\n",
       "    <tr>\n",
       "      <th>...</th>\n",
       "      <th>...</th>\n",
       "      <th>...</th>\n",
       "      <th>...</th>\n",
       "      <th>...</th>\n",
       "      <td>...</td>\n",
       "      <td>...</td>\n",
       "      <td>...</td>\n",
       "      <td>...</td>\n",
       "    </tr>\n",
       "    <tr>\n",
       "      <th rowspan=\"5\" valign=\"top\">34970</th>\n",
       "      <th>79</th>\n",
       "      <th>12</th>\n",
       "      <th>0</th>\n",
       "      <th>1</th>\n",
       "      <td>(&amp;, CC)</td>\n",
       "      <td>CC</td>\n",
       "      <td>&amp;</td>\n",
       "      <td></td>\n",
       "    </tr>\n",
       "    <tr>\n",
       "      <th>80</th>\n",
       "      <th>9</th>\n",
       "      <th>0</th>\n",
       "      <th>4</th>\n",
       "      <td>(_., NN)</td>\n",
       "      <td>NN</td>\n",
       "      <td>_.</td>\n",
       "      <td></td>\n",
       "    </tr>\n",
       "    <tr>\n",
       "      <th rowspan=\"2\" valign=\"top\">83</th>\n",
       "      <th rowspan=\"2\" valign=\"top\">8</th>\n",
       "      <th>2</th>\n",
       "      <th>0</th>\n",
       "      <td>(),, NN)</td>\n",
       "      <td>NN</td>\n",
       "      <td>),</td>\n",
       "      <td></td>\n",
       "    </tr>\n",
       "    <tr>\n",
       "      <th>3</th>\n",
       "      <th>0</th>\n",
       "      <td>();, NN)</td>\n",
       "      <td>NN</td>\n",
       "      <td>);</td>\n",
       "      <td></td>\n",
       "    </tr>\n",
       "    <tr>\n",
       "      <th>111</th>\n",
       "      <th>5</th>\n",
       "      <th>0</th>\n",
       "      <th>3</th>\n",
       "      <td>(&amp;, CC)</td>\n",
       "      <td>CC</td>\n",
       "      <td>&amp;</td>\n",
       "      <td></td>\n",
       "    </tr>\n",
       "  </tbody>\n",
       "</table>\n",
       "<p>729 rows × 4 columns</p>\n",
       "</div>"
      ],
      "text/plain": [
       "                                            pos_tuple  pos token_str term_str\n",
       "book_id chap_id para_num sent_num token_num                                  \n",
       "105     3       1        5        12         (\", NNP)  NNP         \"         \n",
       "                17       6        22         (\", VBZ)  VBZ         \"         \n",
       "        6       27       5        0          (),, NN)   NN        ),         \n",
       "        14      8        1        9          (\", VBP)  VBP         \"         \n",
       "        20      8        4        14          (\", VB)   VB         \"         \n",
       "...                                               ...  ...       ...      ...\n",
       "34970   79      12       0        1           (&, CC)   CC         &         \n",
       "        80      9        0        4          (_., NN)   NN        _.         \n",
       "        83      8        2        0          (),, NN)   NN        ),         \n",
       "                         3        0          ();, NN)   NN        );         \n",
       "        111     5        0        3           (&, CC)   CC         &         \n",
       "\n",
       "[729 rows x 4 columns]"
      ]
     },
     "execution_count": 31,
     "metadata": {},
     "output_type": "execute_result"
    }
   ],
   "source": [
    "CORPUS[CORPUS.term_str == '']"
   ]
  },
  {
   "cell_type": "code",
   "execution_count": 32,
   "metadata": {},
   "outputs": [
    {
     "data": {
      "text/plain": [
       "*        359\n",
       "\"        225\n",
       "|         85\n",
       "&          9\n",
       "*****      7\n",
       "),         5\n",
       ".\"         4\n",
       "+          4\n",
       "'          3\n",
       "\"...       2\n",
       ".'         2\n",
       "?\"         2\n",
       "\"*         2\n",
       ",\"         2\n",
       "!\"         1\n",
       "[*         1\n",
       "_.         1\n",
       "\".         1\n",
       "\";         1\n",
       "*\"         1\n",
       "\",         1\n",
       "....       1\n",
       "::         1\n",
       "'_         1\n",
       "_          1\n",
       "£          1\n",
       "&.         1\n",
       "'\"         1\n",
       "'*         1\n",
       "***        1\n",
       ",'         1\n",
       ");         1\n",
       "Name: token_str, dtype: int64"
      ]
     },
     "execution_count": 32,
     "metadata": {},
     "output_type": "execute_result"
    }
   ],
   "source": [
    "CORPUS[CORPUS.term_str == ''].token_str.value_counts()"
   ]
  },
  {
   "cell_type": "code",
   "execution_count": 33,
   "metadata": {
    "tags": []
   },
   "outputs": [],
   "source": [
    "CORPUS = CORPUS[CORPUS.term_str != '']"
   ]
  },
  {
   "cell_type": "code",
   "execution_count": 34,
   "metadata": {
    "tags": []
   },
   "outputs": [],
   "source": [
    "CORPUS['pos_group'] = CORPUS.pos.str[:2]"
   ]
  },
  {
   "cell_type": "code",
   "execution_count": 35,
   "metadata": {
    "tags": []
   },
   "outputs": [
    {
     "data": {
      "text/html": [
       "<div>\n",
       "<style scoped>\n",
       "    .dataframe tbody tr th:only-of-type {\n",
       "        vertical-align: middle;\n",
       "    }\n",
       "\n",
       "    .dataframe tbody tr th {\n",
       "        vertical-align: top;\n",
       "    }\n",
       "\n",
       "    .dataframe thead th {\n",
       "        text-align: right;\n",
       "    }\n",
       "</style>\n",
       "<table border=\"1\" class=\"dataframe\">\n",
       "  <thead>\n",
       "    <tr style=\"text-align: right;\">\n",
       "      <th></th>\n",
       "      <th></th>\n",
       "      <th></th>\n",
       "      <th></th>\n",
       "      <th></th>\n",
       "      <th>pos_tuple</th>\n",
       "      <th>pos</th>\n",
       "      <th>token_str</th>\n",
       "      <th>term_str</th>\n",
       "      <th>pos_group</th>\n",
       "    </tr>\n",
       "    <tr>\n",
       "      <th>book_id</th>\n",
       "      <th>chap_id</th>\n",
       "      <th>para_num</th>\n",
       "      <th>sent_num</th>\n",
       "      <th>token_num</th>\n",
       "      <th></th>\n",
       "      <th></th>\n",
       "      <th></th>\n",
       "      <th></th>\n",
       "      <th></th>\n",
       "    </tr>\n",
       "  </thead>\n",
       "  <tbody>\n",
       "    <tr>\n",
       "      <th rowspan=\"5\" valign=\"top\">105</th>\n",
       "      <th rowspan=\"5\" valign=\"top\">1</th>\n",
       "      <th rowspan=\"5\" valign=\"top\">1</th>\n",
       "      <th rowspan=\"5\" valign=\"top\">0</th>\n",
       "      <th>0</th>\n",
       "      <td>(Sir, NNP)</td>\n",
       "      <td>NNP</td>\n",
       "      <td>Sir</td>\n",
       "      <td>sir</td>\n",
       "      <td>NN</td>\n",
       "    </tr>\n",
       "    <tr>\n",
       "      <th>1</th>\n",
       "      <td>(Walter, NNP)</td>\n",
       "      <td>NNP</td>\n",
       "      <td>Walter</td>\n",
       "      <td>walter</td>\n",
       "      <td>NN</td>\n",
       "    </tr>\n",
       "    <tr>\n",
       "      <th>2</th>\n",
       "      <td>(Elliot,, NNP)</td>\n",
       "      <td>NNP</td>\n",
       "      <td>Elliot,</td>\n",
       "      <td>elliot</td>\n",
       "      <td>NN</td>\n",
       "    </tr>\n",
       "    <tr>\n",
       "      <th>3</th>\n",
       "      <td>(of, IN)</td>\n",
       "      <td>IN</td>\n",
       "      <td>of</td>\n",
       "      <td>of</td>\n",
       "      <td>IN</td>\n",
       "    </tr>\n",
       "    <tr>\n",
       "      <th>4</th>\n",
       "      <td>(Kellynch, NNP)</td>\n",
       "      <td>NNP</td>\n",
       "      <td>Kellynch</td>\n",
       "      <td>kellynch</td>\n",
       "      <td>NN</td>\n",
       "    </tr>\n",
       "    <tr>\n",
       "      <th>...</th>\n",
       "      <th>...</th>\n",
       "      <th>...</th>\n",
       "      <th>...</th>\n",
       "      <th>...</th>\n",
       "      <td>...</td>\n",
       "      <td>...</td>\n",
       "      <td>...</td>\n",
       "      <td>...</td>\n",
       "      <td>...</td>\n",
       "    </tr>\n",
       "    <tr>\n",
       "      <th rowspan=\"5\" valign=\"top\">34970</th>\n",
       "      <th rowspan=\"5\" valign=\"top\">114</th>\n",
       "      <th rowspan=\"5\" valign=\"top\">24</th>\n",
       "      <th rowspan=\"5\" valign=\"top\">0</th>\n",
       "      <th>6</th>\n",
       "      <td>(The, DT)</td>\n",
       "      <td>DT</td>\n",
       "      <td>The</td>\n",
       "      <td>the</td>\n",
       "      <td>DT</td>\n",
       "    </tr>\n",
       "    <tr>\n",
       "      <th>7</th>\n",
       "      <td>(Ambiguities,, NNP)</td>\n",
       "      <td>NNP</td>\n",
       "      <td>Ambiguities,</td>\n",
       "      <td>ambiguities</td>\n",
       "      <td>NN</td>\n",
       "    </tr>\n",
       "    <tr>\n",
       "      <th>8</th>\n",
       "      <td>(by, IN)</td>\n",
       "      <td>IN</td>\n",
       "      <td>by</td>\n",
       "      <td>by</td>\n",
       "      <td>IN</td>\n",
       "    </tr>\n",
       "    <tr>\n",
       "      <th>9</th>\n",
       "      <td>(Herman, NNP)</td>\n",
       "      <td>NNP</td>\n",
       "      <td>Herman</td>\n",
       "      <td>herman</td>\n",
       "      <td>NN</td>\n",
       "    </tr>\n",
       "    <tr>\n",
       "      <th>10</th>\n",
       "      <td>(Melville, NNP)</td>\n",
       "      <td>NNP</td>\n",
       "      <td>Melville</td>\n",
       "      <td>melville</td>\n",
       "      <td>NN</td>\n",
       "    </tr>\n",
       "  </tbody>\n",
       "</table>\n",
       "<p>2059272 rows × 5 columns</p>\n",
       "</div>"
      ],
      "text/plain": [
       "                                                       pos_tuple  ... pos_group\n",
       "book_id chap_id para_num sent_num token_num                       ...          \n",
       "105     1       1        0        0                   (Sir, NNP)  ...        NN\n",
       "                                  1                (Walter, NNP)  ...        NN\n",
       "                                  2               (Elliot,, NNP)  ...        NN\n",
       "                                  3                     (of, IN)  ...        IN\n",
       "                                  4              (Kellynch, NNP)  ...        NN\n",
       "...                                                          ...  ...       ...\n",
       "34970   114     24       0        6                    (The, DT)  ...        DT\n",
       "                                  7          (Ambiguities,, NNP)  ...        NN\n",
       "                                  8                     (by, IN)  ...        IN\n",
       "                                  9                (Herman, NNP)  ...        NN\n",
       "                                  10             (Melville, NNP)  ...        NN\n",
       "\n",
       "[2059272 rows x 5 columns]"
      ]
     },
     "execution_count": 35,
     "metadata": {},
     "output_type": "execute_result"
    }
   ],
   "source": [
    "CORPUS"
   ]
  },
  {
   "cell_type": "code",
   "execution_count": 36,
   "metadata": {},
   "outputs": [],
   "source": [
    "VOCAB = CORPUS.term_str.value_counts().to_frame('n').sort_index()\n",
    "VOCAB.index.name = 'term_str'\n",
    "VOCAB['n_chars'] = VOCAB.index.str.len()\n",
    "VOCAB['p'] = VOCAB.n / VOCAB.n.sum()\n",
    "VOCAB['i'] = -np.log2(VOCAB.p)"
   ]
  },
  {
   "cell_type": "code",
   "execution_count": 37,
   "metadata": {
    "tags": []
   },
   "outputs": [
    {
     "data": {
      "text/html": [
       "<div>\n",
       "<style scoped>\n",
       "    .dataframe tbody tr th:only-of-type {\n",
       "        vertical-align: middle;\n",
       "    }\n",
       "\n",
       "    .dataframe tbody tr th {\n",
       "        vertical-align: top;\n",
       "    }\n",
       "\n",
       "    .dataframe thead th {\n",
       "        text-align: right;\n",
       "    }\n",
       "</style>\n",
       "<table border=\"1\" class=\"dataframe\">\n",
       "  <thead>\n",
       "    <tr style=\"text-align: right;\">\n",
       "      <th></th>\n",
       "      <th>n</th>\n",
       "      <th>n_chars</th>\n",
       "      <th>p</th>\n",
       "      <th>i</th>\n",
       "    </tr>\n",
       "    <tr>\n",
       "      <th>term_str</th>\n",
       "      <th></th>\n",
       "      <th></th>\n",
       "      <th></th>\n",
       "      <th></th>\n",
       "    </tr>\n",
       "  </thead>\n",
       "  <tbody>\n",
       "    <tr>\n",
       "      <th>0</th>\n",
       "      <td>2</td>\n",
       "      <td>1</td>\n",
       "      <td>9.713651e-07</td>\n",
       "      <td>19.973483</td>\n",
       "    </tr>\n",
       "    <tr>\n",
       "      <th>1</th>\n",
       "      <td>23</td>\n",
       "      <td>1</td>\n",
       "      <td>1.117070e-05</td>\n",
       "      <td>16.449921</td>\n",
       "    </tr>\n",
       "    <tr>\n",
       "      <th>10</th>\n",
       "      <td>6</td>\n",
       "      <td>2</td>\n",
       "      <td>2.914095e-06</td>\n",
       "      <td>18.388520</td>\n",
       "    </tr>\n",
       "    <tr>\n",
       "      <th>100</th>\n",
       "      <td>2</td>\n",
       "      <td>3</td>\n",
       "      <td>9.713651e-07</td>\n",
       "      <td>19.973483</td>\n",
       "    </tr>\n",
       "    <tr>\n",
       "      <th>1000</th>\n",
       "      <td>2</td>\n",
       "      <td>4</td>\n",
       "      <td>9.713651e-07</td>\n",
       "      <td>19.973483</td>\n",
       "    </tr>\n",
       "    <tr>\n",
       "      <th>...</th>\n",
       "      <td>...</td>\n",
       "      <td>...</td>\n",
       "      <td>...</td>\n",
       "      <td>...</td>\n",
       "    </tr>\n",
       "    <tr>\n",
       "      <th>æneas</th>\n",
       "      <td>1</td>\n",
       "      <td>5</td>\n",
       "      <td>4.856826e-07</td>\n",
       "      <td>20.973483</td>\n",
       "    </tr>\n",
       "    <tr>\n",
       "      <th>æniad</th>\n",
       "      <td>1</td>\n",
       "      <td>5</td>\n",
       "      <td>4.856826e-07</td>\n",
       "      <td>20.973483</td>\n",
       "    </tr>\n",
       "    <tr>\n",
       "      <th>æson</th>\n",
       "      <td>2</td>\n",
       "      <td>4</td>\n",
       "      <td>9.713651e-07</td>\n",
       "      <td>19.973483</td>\n",
       "    </tr>\n",
       "    <tr>\n",
       "      <th>æsops</th>\n",
       "      <td>1</td>\n",
       "      <td>5</td>\n",
       "      <td>4.856826e-07</td>\n",
       "      <td>20.973483</td>\n",
       "    </tr>\n",
       "    <tr>\n",
       "      <th>ł20000</th>\n",
       "      <td>1</td>\n",
       "      <td>6</td>\n",
       "      <td>4.856826e-07</td>\n",
       "      <td>20.973483</td>\n",
       "    </tr>\n",
       "  </tbody>\n",
       "</table>\n",
       "<p>40283 rows × 4 columns</p>\n",
       "</div>"
      ],
      "text/plain": [
       "           n  n_chars             p          i\n",
       "term_str                                      \n",
       "0          2        1  9.713651e-07  19.973483\n",
       "1         23        1  1.117070e-05  16.449921\n",
       "10         6        2  2.914095e-06  18.388520\n",
       "100        2        3  9.713651e-07  19.973483\n",
       "1000       2        4  9.713651e-07  19.973483\n",
       "...       ..      ...           ...        ...\n",
       "æneas      1        5  4.856826e-07  20.973483\n",
       "æniad      1        5  4.856826e-07  20.973483\n",
       "æson       2        4  9.713651e-07  19.973483\n",
       "æsops      1        5  4.856826e-07  20.973483\n",
       "ł20000     1        6  4.856826e-07  20.973483\n",
       "\n",
       "[40283 rows x 4 columns]"
      ]
     },
     "execution_count": 37,
     "metadata": {},
     "output_type": "execute_result"
    }
   ],
   "source": [
    "VOCAB"
   ]
  },
  {
   "attachments": {},
   "cell_type": "markdown",
   "metadata": {
    "colab_type": "text",
    "id": "bDSH9L2TXGzH",
    "tags": []
   },
   "source": [
    "# Annotate VOCAB"
   ]
  },
  {
   "attachments": {},
   "cell_type": "markdown",
   "metadata": {},
   "source": [
    "## Get Max POS\n",
    "\n",
    "Get the most frequently associated part-of-speech category for each word."
   ]
  },
  {
   "cell_type": "code",
   "execution_count": 38,
   "metadata": {},
   "outputs": [],
   "source": [
    "VOCAB['max_pos'] = CORPUS[['term_str','pos']].value_counts().unstack(fill_value=0).idxmax(1)"
   ]
  },
  {
   "cell_type": "code",
   "execution_count": 39,
   "metadata": {},
   "outputs": [],
   "source": [
    "VOCAB['max_pos_group'] = CORPUS[['term_str','pos_group']].value_counts().unstack(fill_value=0).idxmax(1)"
   ]
  },
  {
   "attachments": {},
   "cell_type": "markdown",
   "metadata": {},
   "source": [
    "## Compute POS ambiguity\n",
    "\n",
    "How many POS categories are associated with each word?"
   ]
  },
  {
   "cell_type": "code",
   "execution_count": 40,
   "metadata": {},
   "outputs": [],
   "source": [
    "VOCAB['n_pos_group'] = CORPUS[['term_str','pos_group']].value_counts().unstack().count(1)\n",
    "VOCAB['cat_pos_group'] = CORPUS[['term_str','pos_group']].value_counts().to_frame('n').reset_index()\\\n",
    "    .groupby('term_str').pos_group.apply(lambda x: set(x))"
   ]
  },
  {
   "cell_type": "code",
   "execution_count": 41,
   "metadata": {},
   "outputs": [],
   "source": [
    "VOCAB['n_pos'] = CORPUS[['term_str','pos']].value_counts().unstack().count(1)\n",
    "VOCAB['cat_pos'] = CORPUS[['term_str','pos']].value_counts().to_frame('n').reset_index()\\\n",
    "    .groupby('term_str').pos.apply(lambda x: set(x))"
   ]
  },
  {
   "cell_type": "code",
   "execution_count": 42,
   "metadata": {},
   "outputs": [
    {
     "data": {
      "text/html": [
       "<div>\n",
       "<style scoped>\n",
       "    .dataframe tbody tr th:only-of-type {\n",
       "        vertical-align: middle;\n",
       "    }\n",
       "\n",
       "    .dataframe tbody tr th {\n",
       "        vertical-align: top;\n",
       "    }\n",
       "\n",
       "    .dataframe thead th {\n",
       "        text-align: right;\n",
       "    }\n",
       "</style>\n",
       "<table border=\"1\" class=\"dataframe\">\n",
       "  <thead>\n",
       "    <tr style=\"text-align: right;\">\n",
       "      <th></th>\n",
       "      <th>n</th>\n",
       "      <th>n_chars</th>\n",
       "      <th>p</th>\n",
       "      <th>i</th>\n",
       "      <th>max_pos</th>\n",
       "      <th>max_pos_group</th>\n",
       "      <th>n_pos_group</th>\n",
       "      <th>cat_pos_group</th>\n",
       "      <th>n_pos</th>\n",
       "      <th>cat_pos</th>\n",
       "    </tr>\n",
       "    <tr>\n",
       "      <th>term_str</th>\n",
       "      <th></th>\n",
       "      <th></th>\n",
       "      <th></th>\n",
       "      <th></th>\n",
       "      <th></th>\n",
       "      <th></th>\n",
       "      <th></th>\n",
       "      <th></th>\n",
       "      <th></th>\n",
       "      <th></th>\n",
       "    </tr>\n",
       "  </thead>\n",
       "  <tbody>\n",
       "    <tr>\n",
       "      <th>0</th>\n",
       "      <td>2</td>\n",
       "      <td>1</td>\n",
       "      <td>9.713651e-07</td>\n",
       "      <td>19.973483</td>\n",
       "      <td>CD</td>\n",
       "      <td>CD</td>\n",
       "      <td>1</td>\n",
       "      <td>{CD}</td>\n",
       "      <td>1</td>\n",
       "      <td>{CD}</td>\n",
       "    </tr>\n",
       "    <tr>\n",
       "      <th>1</th>\n",
       "      <td>23</td>\n",
       "      <td>1</td>\n",
       "      <td>1.117070e-05</td>\n",
       "      <td>16.449921</td>\n",
       "      <td>CD</td>\n",
       "      <td>CD</td>\n",
       "      <td>2</td>\n",
       "      <td>{CD, NN}</td>\n",
       "      <td>3</td>\n",
       "      <td>{CD, NNP, NN}</td>\n",
       "    </tr>\n",
       "    <tr>\n",
       "      <th>10</th>\n",
       "      <td>6</td>\n",
       "      <td>2</td>\n",
       "      <td>2.914095e-06</td>\n",
       "      <td>18.388520</td>\n",
       "      <td>CD</td>\n",
       "      <td>CD</td>\n",
       "      <td>1</td>\n",
       "      <td>{CD}</td>\n",
       "      <td>1</td>\n",
       "      <td>{CD}</td>\n",
       "    </tr>\n",
       "    <tr>\n",
       "      <th>100</th>\n",
       "      <td>2</td>\n",
       "      <td>3</td>\n",
       "      <td>9.713651e-07</td>\n",
       "      <td>19.973483</td>\n",
       "      <td>CD</td>\n",
       "      <td>CD</td>\n",
       "      <td>1</td>\n",
       "      <td>{CD}</td>\n",
       "      <td>1</td>\n",
       "      <td>{CD}</td>\n",
       "    </tr>\n",
       "    <tr>\n",
       "      <th>1000</th>\n",
       "      <td>2</td>\n",
       "      <td>4</td>\n",
       "      <td>9.713651e-07</td>\n",
       "      <td>19.973483</td>\n",
       "      <td>CD</td>\n",
       "      <td>CD</td>\n",
       "      <td>1</td>\n",
       "      <td>{CD}</td>\n",
       "      <td>1</td>\n",
       "      <td>{CD}</td>\n",
       "    </tr>\n",
       "    <tr>\n",
       "      <th>...</th>\n",
       "      <td>...</td>\n",
       "      <td>...</td>\n",
       "      <td>...</td>\n",
       "      <td>...</td>\n",
       "      <td>...</td>\n",
       "      <td>...</td>\n",
       "      <td>...</td>\n",
       "      <td>...</td>\n",
       "      <td>...</td>\n",
       "      <td>...</td>\n",
       "    </tr>\n",
       "    <tr>\n",
       "      <th>æneas</th>\n",
       "      <td>1</td>\n",
       "      <td>5</td>\n",
       "      <td>4.856826e-07</td>\n",
       "      <td>20.973483</td>\n",
       "      <td>NN</td>\n",
       "      <td>NN</td>\n",
       "      <td>1</td>\n",
       "      <td>{NN}</td>\n",
       "      <td>1</td>\n",
       "      <td>{NN}</td>\n",
       "    </tr>\n",
       "    <tr>\n",
       "      <th>æniad</th>\n",
       "      <td>1</td>\n",
       "      <td>5</td>\n",
       "      <td>4.856826e-07</td>\n",
       "      <td>20.973483</td>\n",
       "      <td>NN</td>\n",
       "      <td>NN</td>\n",
       "      <td>1</td>\n",
       "      <td>{NN}</td>\n",
       "      <td>1</td>\n",
       "      <td>{NN}</td>\n",
       "    </tr>\n",
       "    <tr>\n",
       "      <th>æson</th>\n",
       "      <td>2</td>\n",
       "      <td>4</td>\n",
       "      <td>9.713651e-07</td>\n",
       "      <td>19.973483</td>\n",
       "      <td>NN</td>\n",
       "      <td>NN</td>\n",
       "      <td>1</td>\n",
       "      <td>{NN}</td>\n",
       "      <td>1</td>\n",
       "      <td>{NN}</td>\n",
       "    </tr>\n",
       "    <tr>\n",
       "      <th>æsops</th>\n",
       "      <td>1</td>\n",
       "      <td>5</td>\n",
       "      <td>4.856826e-07</td>\n",
       "      <td>20.973483</td>\n",
       "      <td>NNS</td>\n",
       "      <td>NN</td>\n",
       "      <td>1</td>\n",
       "      <td>{NN}</td>\n",
       "      <td>1</td>\n",
       "      <td>{NNS}</td>\n",
       "    </tr>\n",
       "    <tr>\n",
       "      <th>ł20000</th>\n",
       "      <td>1</td>\n",
       "      <td>6</td>\n",
       "      <td>4.856826e-07</td>\n",
       "      <td>20.973483</td>\n",
       "      <td>NN</td>\n",
       "      <td>NN</td>\n",
       "      <td>1</td>\n",
       "      <td>{NN}</td>\n",
       "      <td>1</td>\n",
       "      <td>{NN}</td>\n",
       "    </tr>\n",
       "  </tbody>\n",
       "</table>\n",
       "<p>40283 rows × 10 columns</p>\n",
       "</div>"
      ],
      "text/plain": [
       "           n  n_chars             p  ...  cat_pos_group n_pos        cat_pos\n",
       "term_str                             ...                                    \n",
       "0          2        1  9.713651e-07  ...           {CD}     1           {CD}\n",
       "1         23        1  1.117070e-05  ...       {CD, NN}     3  {CD, NNP, NN}\n",
       "10         6        2  2.914095e-06  ...           {CD}     1           {CD}\n",
       "100        2        3  9.713651e-07  ...           {CD}     1           {CD}\n",
       "1000       2        4  9.713651e-07  ...           {CD}     1           {CD}\n",
       "...       ..      ...           ...  ...            ...   ...            ...\n",
       "æneas      1        5  4.856826e-07  ...           {NN}     1           {NN}\n",
       "æniad      1        5  4.856826e-07  ...           {NN}     1           {NN}\n",
       "æson       2        4  9.713651e-07  ...           {NN}     1           {NN}\n",
       "æsops      1        5  4.856826e-07  ...           {NN}     1          {NNS}\n",
       "ł20000     1        6  4.856826e-07  ...           {NN}     1           {NN}\n",
       "\n",
       "[40283 rows x 10 columns]"
      ]
     },
     "execution_count": 42,
     "metadata": {},
     "output_type": "execute_result"
    }
   ],
   "source": [
    "VOCAB"
   ]
  },
  {
   "cell_type": "code",
   "execution_count": 43,
   "metadata": {},
   "outputs": [],
   "source": [
    "# nltk.help.upenn_tagset()"
   ]
  },
  {
   "attachments": {},
   "cell_type": "markdown",
   "metadata": {
    "colab_type": "text",
    "id": "US7EfWK_06FS"
   },
   "source": [
    "## Add Stopwords"
   ]
  },
  {
   "attachments": {},
   "cell_type": "markdown",
   "metadata": {
    "colab_type": "text",
    "id": "BDCfFuN80_rX"
   },
   "source": [
    "We use NLTK's built in stopword list for English. Note that we can add and subtract from this list, or just create our own list and keep it in our data model."
   ]
  },
  {
   "cell_type": "code",
   "execution_count": 44,
   "metadata": {
    "colab": {},
    "colab_type": "code",
    "id": "RG-5qYDR1YC2"
   },
   "outputs": [],
   "source": [
    "sw = pd.DataFrame(nltk.corpus.stopwords.words('english'), columns=['term_str'])\n",
    "sw = sw.reset_index().set_index('term_str')\n",
    "sw.columns = ['dummy']\n",
    "sw.dummy = 1"
   ]
  },
  {
   "cell_type": "code",
   "execution_count": 45,
   "metadata": {
    "colab": {
     "base_uri": "https://localhost:8080/",
     "height": 1925
    },
    "colab_type": "code",
    "id": "8vtGY9V82scz",
    "outputId": "e7ef30c7-3a05-4acf-e2cc-9154f589bd91"
   },
   "outputs": [],
   "source": [
    "# sw.sample(10)"
   ]
  },
  {
   "cell_type": "code",
   "execution_count": 46,
   "metadata": {
    "colab": {},
    "colab_type": "code",
    "id": "cVJUOP9l2AS7"
   },
   "outputs": [],
   "source": [
    "VOCAB['stop'] = VOCAB.index.map(sw.dummy)\n",
    "VOCAB['stop'] = VOCAB['stop'].fillna(0).astype('int')"
   ]
  },
  {
   "cell_type": "code",
   "execution_count": 47,
   "metadata": {
    "colab": {
     "base_uri": "https://localhost:8080/",
     "height": 375
    },
    "colab_type": "code",
    "id": "QXcA9xyY4JF_",
    "outputId": "340d1dab-1901-4eeb-b9d8-a269eba90dea"
   },
   "outputs": [
    {
     "data": {
      "text/html": [
       "<div>\n",
       "<style scoped>\n",
       "    .dataframe tbody tr th:only-of-type {\n",
       "        vertical-align: middle;\n",
       "    }\n",
       "\n",
       "    .dataframe tbody tr th {\n",
       "        vertical-align: top;\n",
       "    }\n",
       "\n",
       "    .dataframe thead th {\n",
       "        text-align: right;\n",
       "    }\n",
       "</style>\n",
       "<table border=\"1\" class=\"dataframe\">\n",
       "  <thead>\n",
       "    <tr style=\"text-align: right;\">\n",
       "      <th></th>\n",
       "      <th>n</th>\n",
       "      <th>n_chars</th>\n",
       "      <th>p</th>\n",
       "      <th>i</th>\n",
       "      <th>max_pos</th>\n",
       "      <th>max_pos_group</th>\n",
       "      <th>n_pos_group</th>\n",
       "      <th>cat_pos_group</th>\n",
       "      <th>n_pos</th>\n",
       "      <th>cat_pos</th>\n",
       "      <th>stop</th>\n",
       "    </tr>\n",
       "    <tr>\n",
       "      <th>term_str</th>\n",
       "      <th></th>\n",
       "      <th></th>\n",
       "      <th></th>\n",
       "      <th></th>\n",
       "      <th></th>\n",
       "      <th></th>\n",
       "      <th></th>\n",
       "      <th></th>\n",
       "      <th></th>\n",
       "      <th></th>\n",
       "      <th></th>\n",
       "    </tr>\n",
       "  </thead>\n",
       "  <tbody>\n",
       "    <tr>\n",
       "      <th>having</th>\n",
       "      <td>1372</td>\n",
       "      <td>6</td>\n",
       "      <td>6.663565e-04</td>\n",
       "      <td>10.551418</td>\n",
       "      <td>VBG</td>\n",
       "      <td>VB</td>\n",
       "      <td>2</td>\n",
       "      <td>{NN, VB}</td>\n",
       "      <td>5</td>\n",
       "      <td>{VBD, VBG, NN, VBP, NNP}</td>\n",
       "      <td>1</td>\n",
       "    </tr>\n",
       "    <tr>\n",
       "      <th>than</th>\n",
       "      <td>3929</td>\n",
       "      <td>4</td>\n",
       "      <td>1.908247e-03</td>\n",
       "      <td>9.033537</td>\n",
       "      <td>IN</td>\n",
       "      <td>IN</td>\n",
       "      <td>3</td>\n",
       "      <td>{IN, NN, VB}</td>\n",
       "      <td>7</td>\n",
       "      <td>{VBZ, VBD, IN, NNS, VB, NN, NNP}</td>\n",
       "      <td>1</td>\n",
       "    </tr>\n",
       "    <tr>\n",
       "      <th>for</th>\n",
       "      <td>16655</td>\n",
       "      <td>3</td>\n",
       "      <td>8.089043e-03</td>\n",
       "      <td>6.949815</td>\n",
       "      <td>IN</td>\n",
       "      <td>IN</td>\n",
       "      <td>9</td>\n",
       "      <td>{JJ, CC, IN, RB, PR, VB, NN, CD, PO}</td>\n",
       "      <td>17</td>\n",
       "      <td>{JJ, VBD, IN, VBZ, VBN, PRP, CC, RB, RBR, NNS,...</td>\n",
       "      <td>1</td>\n",
       "    </tr>\n",
       "    <tr>\n",
       "      <th>ve</th>\n",
       "      <td>2</td>\n",
       "      <td>2</td>\n",
       "      <td>9.713651e-07</td>\n",
       "      <td>19.973483</td>\n",
       "      <td>NN</td>\n",
       "      <td>NN</td>\n",
       "      <td>1</td>\n",
       "      <td>{NN}</td>\n",
       "      <td>2</td>\n",
       "      <td>{NNP, NN}</td>\n",
       "      <td>1</td>\n",
       "    </tr>\n",
       "    <tr>\n",
       "      <th>myself</th>\n",
       "      <td>1220</td>\n",
       "      <td>6</td>\n",
       "      <td>5.925327e-04</td>\n",
       "      <td>10.720818</td>\n",
       "      <td>PRP</td>\n",
       "      <td>PR</td>\n",
       "      <td>8</td>\n",
       "      <td>{JJ, CC, IN, PD, RB, PR, VB, NN}</td>\n",
       "      <td>14</td>\n",
       "      <td>{JJ, VBZ, PRP, VBD, CC, IN, JJS, RB, PDT, NNS,...</td>\n",
       "      <td>1</td>\n",
       "    </tr>\n",
       "    <tr>\n",
       "      <th>who</th>\n",
       "      <td>4564</td>\n",
       "      <td>3</td>\n",
       "      <td>2.216655e-03</td>\n",
       "      <td>8.817400</td>\n",
       "      <td>WP</td>\n",
       "      <td>WP</td>\n",
       "      <td>11</td>\n",
       "      <td>{JJ, CC, IN, RB, WD, VB, WR, NN, CD, PO, WP}</td>\n",
       "      <td>17</td>\n",
       "      <td>{WRB, JJ, VBD, VBZ, IN, VBN, CC, RB, NNS, VB, ...</td>\n",
       "      <td>1</td>\n",
       "    </tr>\n",
       "    <tr>\n",
       "      <th>under</th>\n",
       "      <td>1271</td>\n",
       "      <td>5</td>\n",
       "      <td>6.173025e-04</td>\n",
       "      <td>10.661735</td>\n",
       "      <td>IN</td>\n",
       "      <td>IN</td>\n",
       "      <td>5</td>\n",
       "      <td>{JJ, IN, RP, VB, NN}</td>\n",
       "      <td>6</td>\n",
       "      <td>{JJ, IN, RP, NN, VBP, NNP}</td>\n",
       "      <td>1</td>\n",
       "    </tr>\n",
       "    <tr>\n",
       "      <th>each</th>\n",
       "      <td>972</td>\n",
       "      <td>4</td>\n",
       "      <td>4.720835e-04</td>\n",
       "      <td>11.048670</td>\n",
       "      <td>DT</td>\n",
       "      <td>DT</td>\n",
       "      <td>4</td>\n",
       "      <td>{DT, NN, JJ, VB}</td>\n",
       "      <td>9</td>\n",
       "      <td>{JJ, VBZ, VBD, NNS, VB, DT, NN, VBP, NNP}</td>\n",
       "      <td>1</td>\n",
       "    </tr>\n",
       "    <tr>\n",
       "      <th>yours</th>\n",
       "      <td>231</td>\n",
       "      <td>5</td>\n",
       "      <td>1.121927e-04</td>\n",
       "      <td>13.121734</td>\n",
       "      <td>NN</td>\n",
       "      <td>NN</td>\n",
       "      <td>9</td>\n",
       "      <td>{JJ, CC, RB, RP, PR, VB, NN, FW, CD}</td>\n",
       "      <td>14</td>\n",
       "      <td>{JJ, VBZ, PRP, CC, PRP$, RB, RP, NNS, VB, NN, ...</td>\n",
       "      <td>1</td>\n",
       "    </tr>\n",
       "    <tr>\n",
       "      <th>to</th>\n",
       "      <td>56271</td>\n",
       "      <td>2</td>\n",
       "      <td>2.732984e-02</td>\n",
       "      <td>5.193379</td>\n",
       "      <td>TO</td>\n",
       "      <td>TO</td>\n",
       "      <td>14</td>\n",
       "      <td>{JJ, CC, IN, PD, RB, RP, TO, PR, VB, MD, NN, C...</td>\n",
       "      <td>20</td>\n",
       "      <td>{VBZ, PDT, PRP, CC, NNS, MD, CD, RB, RP, VB, P...</td>\n",
       "      <td>1</td>\n",
       "    </tr>\n",
       "  </tbody>\n",
       "</table>\n",
       "</div>"
      ],
      "text/plain": [
       "              n  ...  stop\n",
       "term_str         ...      \n",
       "having     1372  ...     1\n",
       "than       3929  ...     1\n",
       "for       16655  ...     1\n",
       "ve            2  ...     1\n",
       "myself     1220  ...     1\n",
       "who        4564  ...     1\n",
       "under      1271  ...     1\n",
       "each        972  ...     1\n",
       "yours       231  ...     1\n",
       "to        56271  ...     1\n",
       "\n",
       "[10 rows x 11 columns]"
      ]
     },
     "execution_count": 47,
     "metadata": {},
     "output_type": "execute_result"
    }
   ],
   "source": [
    "VOCAB[VOCAB.stop == 1].sample(10)"
   ]
  },
  {
   "attachments": {},
   "cell_type": "markdown",
   "metadata": {},
   "source": [
    "## Interlude: Stopword Stats"
   ]
  },
  {
   "cell_type": "code",
   "execution_count": 48,
   "metadata": {},
   "outputs": [],
   "source": [
    "a = VOCAB.groupby('stop').n_chars.mean()\n",
    "b = VOCAB.groupby('stop').n_pos.mean().sort_values(ascending=False)"
   ]
  },
  {
   "cell_type": "code",
   "execution_count": 49,
   "metadata": {},
   "outputs": [
    {
     "data": {
      "text/html": [
       "<div>\n",
       "<style scoped>\n",
       "    .dataframe tbody tr th:only-of-type {\n",
       "        vertical-align: middle;\n",
       "    }\n",
       "\n",
       "    .dataframe tbody tr th {\n",
       "        vertical-align: top;\n",
       "    }\n",
       "\n",
       "    .dataframe thead th {\n",
       "        text-align: right;\n",
       "    }\n",
       "</style>\n",
       "<table border=\"1\" class=\"dataframe\">\n",
       "  <thead>\n",
       "    <tr style=\"text-align: right;\">\n",
       "      <th></th>\n",
       "      <th>n_chars</th>\n",
       "      <th>n_pos</th>\n",
       "    </tr>\n",
       "    <tr>\n",
       "      <th>stop</th>\n",
       "      <th></th>\n",
       "      <th></th>\n",
       "    </tr>\n",
       "  </thead>\n",
       "  <tbody>\n",
       "    <tr>\n",
       "      <th>0</th>\n",
       "      <td>7.871170</td>\n",
       "      <td>2.138943</td>\n",
       "    </tr>\n",
       "    <tr>\n",
       "      <th>1</th>\n",
       "      <td>3.766423</td>\n",
       "      <td>12.416058</td>\n",
       "    </tr>\n",
       "  </tbody>\n",
       "</table>\n",
       "</div>"
      ],
      "text/plain": [
       "       n_chars      n_pos\n",
       "stop                     \n",
       "0     7.871170   2.138943\n",
       "1     3.766423  12.416058"
      ]
     },
     "execution_count": 49,
     "metadata": {},
     "output_type": "execute_result"
    }
   ],
   "source": [
    "pd.concat([a,b], axis=1)"
   ]
  },
  {
   "cell_type": "code",
   "execution_count": 50,
   "metadata": {},
   "outputs": [
    {
     "data": {
      "image/png": "[encoded data removed]",
      "text/plain": [
       "<Figure size 640x480 with 1 Axes>"
      ]
     },
     "metadata": {},
     "output_type": "display_data"
    }
   ],
   "source": [
    "VOCAB.groupby('n_chars').n_pos.mean()\\\n",
    "    .sort_index().plot.bar(rot=0);"
   ]
  },
  {
   "attachments": {},
   "cell_type": "markdown",
   "metadata": {},
   "source": [
    "Curious that stopwords would have such variability."
   ]
  },
  {
   "cell_type": "code",
   "execution_count": 51,
   "metadata": {},
   "outputs": [
    {
     "data": {
      "text/html": [
       "<div>\n",
       "<style scoped>\n",
       "    .dataframe tbody tr th:only-of-type {\n",
       "        vertical-align: middle;\n",
       "    }\n",
       "\n",
       "    .dataframe tbody tr th {\n",
       "        vertical-align: top;\n",
       "    }\n",
       "\n",
       "    .dataframe thead th {\n",
       "        text-align: right;\n",
       "    }\n",
       "</style>\n",
       "<table border=\"1\" class=\"dataframe\">\n",
       "  <thead>\n",
       "    <tr style=\"text-align: right;\">\n",
       "      <th></th>\n",
       "      <th>n_pos</th>\n",
       "      <th>cat_pos</th>\n",
       "    </tr>\n",
       "    <tr>\n",
       "      <th>term_str</th>\n",
       "      <th></th>\n",
       "      <th></th>\n",
       "    </tr>\n",
       "  </thead>\n",
       "  <tbody>\n",
       "    <tr>\n",
       "      <th>you</th>\n",
       "      <td>25</td>\n",
       "      <td>{CC, VBZ, PRP, PDT, RBR, PRP$, NNS, MD, CD, RB...</td>\n",
       "    </tr>\n",
       "    <tr>\n",
       "      <th>now</th>\n",
       "      <td>22</td>\n",
       "      <td>{CC, VBZ, PDT, RBR, PRP, NNS, MD, CD, RB, RP, ...</td>\n",
       "    </tr>\n",
       "    <tr>\n",
       "      <th>me</th>\n",
       "      <td>22</td>\n",
       "      <td>{VBZ, PDT, PRP, CC, RBR, NNS, MD, CD, JJS, RB,...</td>\n",
       "    </tr>\n",
       "    <tr>\n",
       "      <th>that</th>\n",
       "      <td>21</td>\n",
       "      <td>{VBZ, PDT, PRP, CC, NNS, RB, RP, VBG, VB, WDT,...</td>\n",
       "    </tr>\n",
       "    <tr>\n",
       "      <th>here</th>\n",
       "      <td>21</td>\n",
       "      <td>{VBZ, PDT, PRP, PRP$, CC, NNS, MD, CD, RB, VB,...</td>\n",
       "    </tr>\n",
       "    <tr>\n",
       "      <th>there</th>\n",
       "      <td>20</td>\n",
       "      <td>{VBZ, PDT, NNS, MD, CD, RB, RP, VBG, VB, WDT, ...</td>\n",
       "    </tr>\n",
       "    <tr>\n",
       "      <th>not</th>\n",
       "      <td>20</td>\n",
       "      <td>{VBZ, CC, PRP, PDT, NNS, MD, CD, RB, RP, VB, F...</td>\n",
       "    </tr>\n",
       "    <tr>\n",
       "      <th>this</th>\n",
       "      <td>20</td>\n",
       "      <td>{PDT, VBZ, PRP, NNS, CD, RB, RP, VBG, VB, POS,...</td>\n",
       "    </tr>\n",
       "    <tr>\n",
       "      <th>more</th>\n",
       "      <td>20</td>\n",
       "      <td>{VBZ, PDT, PRP, RBR, CC, NNS, MD, JJS, RB, VBG...</td>\n",
       "    </tr>\n",
       "    <tr>\n",
       "      <th>to</th>\n",
       "      <td>20</td>\n",
       "      <td>{VBZ, PDT, PRP, CC, NNS, MD, CD, RB, RP, VB, P...</td>\n",
       "    </tr>\n",
       "    <tr>\n",
       "      <th>him</th>\n",
       "      <td>20</td>\n",
       "      <td>{PDT, VBZ, PRP, RBR, PRP$, CC, NNS, RB, RP, VB...</td>\n",
       "    </tr>\n",
       "    <tr>\n",
       "      <th>what</th>\n",
       "      <td>20</td>\n",
       "      <td>{VBZ, NNS, MD, CD, RB, VB, WDT, POS, FW, VBN, ...</td>\n",
       "    </tr>\n",
       "    <tr>\n",
       "      <th>which</th>\n",
       "      <td>19</td>\n",
       "      <td>{VBZ, PDT, CC, NNS, CD, JJS, RB, VB, WDT, FW, ...</td>\n",
       "    </tr>\n",
       "    <tr>\n",
       "      <th>i</th>\n",
       "      <td>19</td>\n",
       "      <td>{VBZ, CC, PRP, NNS, MD, CD, RB, VB, POS, FW, V...</td>\n",
       "    </tr>\n",
       "    <tr>\n",
       "      <th>then</th>\n",
       "      <td>19</td>\n",
       "      <td>{VBZ, CC, PDT, NNS, CD, RB, RP, VB, POS, FW, V...</td>\n",
       "    </tr>\n",
       "    <tr>\n",
       "      <th>but</th>\n",
       "      <td>19</td>\n",
       "      <td>{CC, VBZ, PDT, PRP, NNS, MD, CD, RB, VB, POS, ...</td>\n",
       "    </tr>\n",
       "    <tr>\n",
       "      <th>all</th>\n",
       "      <td>19</td>\n",
       "      <td>{PDT, VBZ, CC, NNS, CD, RB, RP, VBG, VB, POS, ...</td>\n",
       "    </tr>\n",
       "    <tr>\n",
       "      <th>her</th>\n",
       "      <td>19</td>\n",
       "      <td>{PRP$, PDT, PRP, VBZ, RBR, NNS, MD, RB, RP, VB...</td>\n",
       "    </tr>\n",
       "    <tr>\n",
       "      <th>she</th>\n",
       "      <td>18</td>\n",
       "      <td>{EX, JJ, VBN, PRP, VBZ, VBD, IN, PDT, RB, RP, ...</td>\n",
       "    </tr>\n",
       "    <tr>\n",
       "      <th>he</th>\n",
       "      <td>18</td>\n",
       "      <td>{JJ, PRP$, PRP, VBN, VBZ, VBD, RBR, RB, PDT, I...</td>\n",
       "    </tr>\n",
       "  </tbody>\n",
       "</table>\n",
       "</div>"
      ],
      "text/plain": [
       "          n_pos                                            cat_pos\n",
       "term_str                                                          \n",
       "you          25  {CC, VBZ, PRP, PDT, RBR, PRP$, NNS, MD, CD, RB...\n",
       "now          22  {CC, VBZ, PDT, RBR, PRP, NNS, MD, CD, RB, RP, ...\n",
       "me           22  {VBZ, PDT, PRP, CC, RBR, NNS, MD, CD, JJS, RB,...\n",
       "that         21  {VBZ, PDT, PRP, CC, NNS, RB, RP, VBG, VB, WDT,...\n",
       "here         21  {VBZ, PDT, PRP, PRP$, CC, NNS, MD, CD, RB, VB,...\n",
       "there        20  {VBZ, PDT, NNS, MD, CD, RB, RP, VBG, VB, WDT, ...\n",
       "not          20  {VBZ, CC, PRP, PDT, NNS, MD, CD, RB, RP, VB, F...\n",
       "this         20  {PDT, VBZ, PRP, NNS, CD, RB, RP, VBG, VB, POS,...\n",
       "more         20  {VBZ, PDT, PRP, RBR, CC, NNS, MD, JJS, RB, VBG...\n",
       "to           20  {VBZ, PDT, PRP, CC, NNS, MD, CD, RB, RP, VB, P...\n",
       "him          20  {PDT, VBZ, PRP, RBR, PRP$, CC, NNS, RB, RP, VB...\n",
       "what         20  {VBZ, NNS, MD, CD, RB, VB, WDT, POS, FW, VBN, ...\n",
       "which        19  {VBZ, PDT, CC, NNS, CD, JJS, RB, VB, WDT, FW, ...\n",
       "i            19  {VBZ, CC, PRP, NNS, MD, CD, RB, VB, POS, FW, V...\n",
       "then         19  {VBZ, CC, PDT, NNS, CD, RB, RP, VB, POS, FW, V...\n",
       "but          19  {CC, VBZ, PDT, PRP, NNS, MD, CD, RB, VB, POS, ...\n",
       "all          19  {PDT, VBZ, CC, NNS, CD, RB, RP, VBG, VB, POS, ...\n",
       "her          19  {PRP$, PDT, PRP, VBZ, RBR, NNS, MD, RB, RP, VB...\n",
       "she          18  {EX, JJ, VBN, PRP, VBZ, VBD, IN, PDT, RB, RP, ...\n",
       "he           18  {JJ, PRP$, PRP, VBN, VBZ, VBD, RBR, RB, PDT, I..."
      ]
     },
     "execution_count": 51,
     "metadata": {},
     "output_type": "execute_result"
    }
   ],
   "source": [
    "VOCAB[VOCAB.stop == True].sort_values('n_pos', ascending=False)[['n_pos','cat_pos']].head(20)"
   ]
  },
  {
   "attachments": {},
   "cell_type": "markdown",
   "metadata": {},
   "source": [
    "Anyway, let's compare stopword usage across authors."
   ]
  },
  {
   "cell_type": "code",
   "execution_count": 52,
   "metadata": {},
   "outputs": [],
   "source": [
    "X = CORPUS.merge(LIB.reset_index()[['book_id','author']], on='book_id')\\\n",
    "    .merge(VOCAB.reset_index()[['term_str', 'stop']], on='term_str')\\\n",
    "    .groupby(['author','stop']).agg('sum', numeric_only=True).unstack()\n",
    "X.columns = X.columns.droplevel(0)"
   ]
  },
  {
   "cell_type": "code",
   "execution_count": 53,
   "metadata": {},
   "outputs": [
    {
     "data": {
      "text/html": [
       "<style type=\"text/css\">\n",
       "#T_0544d_row0_col0 {\n",
       "  background-color: #fff7fb;\n",
       "  color: #000000;\n",
       "}\n",
       "#T_0544d_row0_col1 {\n",
       "  background-color: #023858;\n",
       "  color: #f1f1f1;\n",
       "}\n",
       "#T_0544d_row1_col0 {\n",
       "  background-color: #4897c4;\n",
       "  color: #f1f1f1;\n",
       "}\n",
       "#T_0544d_row1_col1 {\n",
       "  background-color: #97b7d7;\n",
       "  color: #000000;\n",
       "}\n",
       "</style>\n",
       "<table id=\"T_0544d\">\n",
       "  <thead>\n",
       "    <tr>\n",
       "      <th class=\"index_name level0\" >stop</th>\n",
       "      <th id=\"T_0544d_level0_col0\" class=\"col_heading level0 col0\" >0</th>\n",
       "      <th id=\"T_0544d_level0_col1\" class=\"col_heading level0 col1\" >1</th>\n",
       "    </tr>\n",
       "    <tr>\n",
       "      <th class=\"index_name level0\" >author</th>\n",
       "      <th class=\"blank col0\" >&nbsp;</th>\n",
       "      <th class=\"blank col1\" >&nbsp;</th>\n",
       "    </tr>\n",
       "  </thead>\n",
       "  <tbody>\n",
       "    <tr>\n",
       "      <th id=\"T_0544d_level0_row0\" class=\"row_heading level0 row0\" >AUSTEN, JANE</th>\n",
       "      <td id=\"T_0544d_row0_col0\" class=\"data row0 col0\" >0.451550</td>\n",
       "      <td id=\"T_0544d_row0_col1\" class=\"data row0 col1\" >0.548450</td>\n",
       "    </tr>\n",
       "    <tr>\n",
       "      <th id=\"T_0544d_level0_row1\" class=\"row_heading level0 row1\" >MELVILLE, HERMAN</th>\n",
       "      <td id=\"T_0544d_row1_col0\" class=\"data row1 col0\" >0.508578</td>\n",
       "      <td id=\"T_0544d_row1_col1\" class=\"data row1 col1\" >0.491422</td>\n",
       "    </tr>\n",
       "  </tbody>\n",
       "</table>\n"
      ],
      "text/plain": [
       "<pandas.io.formats.style.Styler at 0x7fe26d6d3b80>"
      ]
     },
     "execution_count": 53,
     "metadata": {},
     "output_type": "execute_result"
    }
   ],
   "source": [
    "(X.T / X.T.sum()).T.style.background_gradient(axis=None)"
   ]
  },
  {
   "attachments": {},
   "cell_type": "markdown",
   "metadata": {
    "colab_type": "text",
    "id": "bDSH9L2TXGzH"
   },
   "source": [
    "## Add Stems"
   ]
  },
  {
   "cell_type": "code",
   "execution_count": 54,
   "metadata": {
    "colab": {},
    "colab_type": "code",
    "id": "mE_YGklKXSYn"
   },
   "outputs": [],
   "source": [
    "from nltk.stem.porter import PorterStemmer\n",
    "stemmer1 = PorterStemmer()\n",
    "VOCAB['stem_porter'] = VOCAB.apply(lambda x: stemmer1.stem(x.name), 1)\n",
    "\n",
    "from nltk.stem.snowball import SnowballStemmer\n",
    "stemmer2 = SnowballStemmer(\"english\")\n",
    "VOCAB['stem_snowball'] = VOCAB.apply(lambda x: stemmer2.stem(x.name), 1)\n",
    "\n",
    "from nltk.stem.lancaster import LancasterStemmer\n",
    "stemmer3 = LancasterStemmer()\n",
    "VOCAB['stem_lancaster'] = VOCAB.apply(lambda x: stemmer3.stem(x.name), 1)"
   ]
  },
  {
   "cell_type": "code",
   "execution_count": 55,
   "metadata": {
    "colab": {
     "base_uri": "https://localhost:8080/",
     "height": 375
    },
    "colab_type": "code",
    "id": "dY__Bq0yXqbj",
    "outputId": "eddcdafe-e378-4f7b-ac6b-1fc41ef64fbb"
   },
   "outputs": [
    {
     "data": {
      "text/html": [
       "<div>\n",
       "<style scoped>\n",
       "    .dataframe tbody tr th:only-of-type {\n",
       "        vertical-align: middle;\n",
       "    }\n",
       "\n",
       "    .dataframe tbody tr th {\n",
       "        vertical-align: top;\n",
       "    }\n",
       "\n",
       "    .dataframe thead th {\n",
       "        text-align: right;\n",
       "    }\n",
       "</style>\n",
       "<table border=\"1\" class=\"dataframe\">\n",
       "  <thead>\n",
       "    <tr style=\"text-align: right;\">\n",
       "      <th></th>\n",
       "      <th>n</th>\n",
       "      <th>n_chars</th>\n",
       "      <th>p</th>\n",
       "      <th>i</th>\n",
       "      <th>max_pos</th>\n",
       "      <th>max_pos_group</th>\n",
       "      <th>n_pos_group</th>\n",
       "      <th>cat_pos_group</th>\n",
       "      <th>n_pos</th>\n",
       "      <th>cat_pos</th>\n",
       "      <th>stop</th>\n",
       "      <th>stem_porter</th>\n",
       "      <th>stem_snowball</th>\n",
       "      <th>stem_lancaster</th>\n",
       "    </tr>\n",
       "    <tr>\n",
       "      <th>term_str</th>\n",
       "      <th></th>\n",
       "      <th></th>\n",
       "      <th></th>\n",
       "      <th></th>\n",
       "      <th></th>\n",
       "      <th></th>\n",
       "      <th></th>\n",
       "      <th></th>\n",
       "      <th></th>\n",
       "      <th></th>\n",
       "      <th></th>\n",
       "      <th></th>\n",
       "      <th></th>\n",
       "      <th></th>\n",
       "    </tr>\n",
       "  </thead>\n",
       "  <tbody>\n",
       "    <tr>\n",
       "      <th>eyeballs</th>\n",
       "      <td>3</td>\n",
       "      <td>8</td>\n",
       "      <td>1.457048e-06</td>\n",
       "      <td>19.388520</td>\n",
       "      <td>NNS</td>\n",
       "      <td>NN</td>\n",
       "      <td>1</td>\n",
       "      <td>{NN}</td>\n",
       "      <td>1</td>\n",
       "      <td>{NNS}</td>\n",
       "      <td>0</td>\n",
       "      <td>eyebal</td>\n",
       "      <td>eyebal</td>\n",
       "      <td>eyebal</td>\n",
       "    </tr>\n",
       "    <tr>\n",
       "      <th>perambulated</th>\n",
       "      <td>1</td>\n",
       "      <td>12</td>\n",
       "      <td>4.856826e-07</td>\n",
       "      <td>20.973483</td>\n",
       "      <td>VBD</td>\n",
       "      <td>VB</td>\n",
       "      <td>1</td>\n",
       "      <td>{VB}</td>\n",
       "      <td>1</td>\n",
       "      <td>{VBD}</td>\n",
       "      <td>0</td>\n",
       "      <td>perambul</td>\n",
       "      <td>perambul</td>\n",
       "      <td>peramb</td>\n",
       "    </tr>\n",
       "    <tr>\n",
       "      <th>rammers</th>\n",
       "      <td>3</td>\n",
       "      <td>7</td>\n",
       "      <td>1.457048e-06</td>\n",
       "      <td>19.388520</td>\n",
       "      <td>NNS</td>\n",
       "      <td>NN</td>\n",
       "      <td>1</td>\n",
       "      <td>{NN}</td>\n",
       "      <td>2</td>\n",
       "      <td>{NN, NNS}</td>\n",
       "      <td>0</td>\n",
       "      <td>rammer</td>\n",
       "      <td>rammer</td>\n",
       "      <td>ram</td>\n",
       "    </tr>\n",
       "    <tr>\n",
       "      <th>dozers</th>\n",
       "      <td>1</td>\n",
       "      <td>6</td>\n",
       "      <td>4.856826e-07</td>\n",
       "      <td>20.973483</td>\n",
       "      <td>NNS</td>\n",
       "      <td>NN</td>\n",
       "      <td>1</td>\n",
       "      <td>{NN}</td>\n",
       "      <td>1</td>\n",
       "      <td>{NNS}</td>\n",
       "      <td>0</td>\n",
       "      <td>dozer</td>\n",
       "      <td>dozer</td>\n",
       "      <td>doz</td>\n",
       "    </tr>\n",
       "    <tr>\n",
       "      <th>courtships</th>\n",
       "      <td>2</td>\n",
       "      <td>10</td>\n",
       "      <td>9.713651e-07</td>\n",
       "      <td>19.973483</td>\n",
       "      <td>NNS</td>\n",
       "      <td>NN</td>\n",
       "      <td>1</td>\n",
       "      <td>{NN}</td>\n",
       "      <td>1</td>\n",
       "      <td>{NNS}</td>\n",
       "      <td>0</td>\n",
       "      <td>courtship</td>\n",
       "      <td>courtship</td>\n",
       "      <td>court</td>\n",
       "    </tr>\n",
       "    <tr>\n",
       "      <th>drenched</th>\n",
       "      <td>10</td>\n",
       "      <td>8</td>\n",
       "      <td>4.856826e-06</td>\n",
       "      <td>17.651555</td>\n",
       "      <td>VBN</td>\n",
       "      <td>VB</td>\n",
       "      <td>2</td>\n",
       "      <td>{JJ, VB}</td>\n",
       "      <td>3</td>\n",
       "      <td>{VBD, VBN, JJ}</td>\n",
       "      <td>0</td>\n",
       "      <td>drench</td>\n",
       "      <td>drench</td>\n",
       "      <td>drench</td>\n",
       "    </tr>\n",
       "    <tr>\n",
       "      <th>owens</th>\n",
       "      <td>5</td>\n",
       "      <td>5</td>\n",
       "      <td>2.428413e-06</td>\n",
       "      <td>18.651555</td>\n",
       "      <td>NNP</td>\n",
       "      <td>NN</td>\n",
       "      <td>1</td>\n",
       "      <td>{NN}</td>\n",
       "      <td>1</td>\n",
       "      <td>{NNP}</td>\n",
       "      <td>0</td>\n",
       "      <td>owen</td>\n",
       "      <td>owen</td>\n",
       "      <td>ow</td>\n",
       "    </tr>\n",
       "    <tr>\n",
       "      <th>uneventfulness</th>\n",
       "      <td>1</td>\n",
       "      <td>14</td>\n",
       "      <td>4.856826e-07</td>\n",
       "      <td>20.973483</td>\n",
       "      <td>JJ</td>\n",
       "      <td>JJ</td>\n",
       "      <td>1</td>\n",
       "      <td>{JJ}</td>\n",
       "      <td>1</td>\n",
       "      <td>{JJ}</td>\n",
       "      <td>0</td>\n",
       "      <td>unev</td>\n",
       "      <td>unev</td>\n",
       "      <td>unev</td>\n",
       "    </tr>\n",
       "    <tr>\n",
       "      <th>pastures</th>\n",
       "      <td>20</td>\n",
       "      <td>8</td>\n",
       "      <td>9.713651e-06</td>\n",
       "      <td>16.651555</td>\n",
       "      <td>NN</td>\n",
       "      <td>NN</td>\n",
       "      <td>2</td>\n",
       "      <td>{NN, VB}</td>\n",
       "      <td>3</td>\n",
       "      <td>{VBZ, NN, NNS}</td>\n",
       "      <td>0</td>\n",
       "      <td>pastur</td>\n",
       "      <td>pastur</td>\n",
       "      <td>past</td>\n",
       "    </tr>\n",
       "    <tr>\n",
       "      <th>helm</th>\n",
       "      <td>111</td>\n",
       "      <td>4</td>\n",
       "      <td>5.391076e-05</td>\n",
       "      <td>14.179067</td>\n",
       "      <td>NN</td>\n",
       "      <td>NN</td>\n",
       "      <td>3</td>\n",
       "      <td>{PR, NN, VB}</td>\n",
       "      <td>5</td>\n",
       "      <td>{VBZ, PRP$, VB, NN, NNP}</td>\n",
       "      <td>0</td>\n",
       "      <td>helm</td>\n",
       "      <td>helm</td>\n",
       "      <td>helm</td>\n",
       "    </tr>\n",
       "  </tbody>\n",
       "</table>\n",
       "</div>"
      ],
      "text/plain": [
       "                  n  n_chars  ...  stem_snowball  stem_lancaster\n",
       "term_str                      ...                               \n",
       "eyeballs          3        8  ...         eyebal          eyebal\n",
       "perambulated      1       12  ...       perambul          peramb\n",
       "rammers           3        7  ...         rammer             ram\n",
       "dozers            1        6  ...          dozer             doz\n",
       "courtships        2       10  ...      courtship           court\n",
       "drenched         10        8  ...         drench          drench\n",
       "owens             5        5  ...           owen              ow\n",
       "uneventfulness    1       14  ...           unev            unev\n",
       "pastures         20        8  ...         pastur            past\n",
       "helm            111        4  ...           helm            helm\n",
       "\n",
       "[10 rows x 14 columns]"
      ]
     },
     "execution_count": 55,
     "metadata": {},
     "output_type": "execute_result"
    }
   ],
   "source": [
    "VOCAB.sample(10)"
   ]
  },
  {
   "cell_type": "code",
   "execution_count": 56,
   "metadata": {
    "colab": {
     "base_uri": "https://localhost:8080/",
     "height": 375
    },
    "colab_type": "code",
    "id": "dY__Bq0yXqbj",
    "outputId": "eddcdafe-e378-4f7b-ac6b-1fc41ef64fbb"
   },
   "outputs": [
    {
     "data": {
      "text/html": [
       "<div>\n",
       "<style scoped>\n",
       "    .dataframe tbody tr th:only-of-type {\n",
       "        vertical-align: middle;\n",
       "    }\n",
       "\n",
       "    .dataframe tbody tr th {\n",
       "        vertical-align: top;\n",
       "    }\n",
       "\n",
       "    .dataframe thead th {\n",
       "        text-align: right;\n",
       "    }\n",
       "</style>\n",
       "<table border=\"1\" class=\"dataframe\">\n",
       "  <thead>\n",
       "    <tr style=\"text-align: right;\">\n",
       "      <th></th>\n",
       "      <th>n</th>\n",
       "      <th>n_chars</th>\n",
       "      <th>p</th>\n",
       "      <th>i</th>\n",
       "      <th>max_pos</th>\n",
       "      <th>max_pos_group</th>\n",
       "      <th>n_pos_group</th>\n",
       "      <th>cat_pos_group</th>\n",
       "      <th>n_pos</th>\n",
       "      <th>cat_pos</th>\n",
       "      <th>stop</th>\n",
       "      <th>stem_porter</th>\n",
       "      <th>stem_snowball</th>\n",
       "      <th>stem_lancaster</th>\n",
       "    </tr>\n",
       "    <tr>\n",
       "      <th>term_str</th>\n",
       "      <th></th>\n",
       "      <th></th>\n",
       "      <th></th>\n",
       "      <th></th>\n",
       "      <th></th>\n",
       "      <th></th>\n",
       "      <th></th>\n",
       "      <th></th>\n",
       "      <th></th>\n",
       "      <th></th>\n",
       "      <th></th>\n",
       "      <th></th>\n",
       "      <th></th>\n",
       "      <th></th>\n",
       "    </tr>\n",
       "  </thead>\n",
       "  <tbody>\n",
       "    <tr>\n",
       "      <th>abandonedly</th>\n",
       "      <td>2</td>\n",
       "      <td>11</td>\n",
       "      <td>9.713651e-07</td>\n",
       "      <td>19.973483</td>\n",
       "      <td>RB</td>\n",
       "      <td>RB</td>\n",
       "      <td>1</td>\n",
       "      <td>{RB}</td>\n",
       "      <td>1</td>\n",
       "      <td>{RB}</td>\n",
       "      <td>0</td>\n",
       "      <td>abandonedli</td>\n",
       "      <td>abandon</td>\n",
       "      <td>abandon</td>\n",
       "    </tr>\n",
       "    <tr>\n",
       "      <th>abhorringly</th>\n",
       "      <td>1</td>\n",
       "      <td>11</td>\n",
       "      <td>4.856826e-07</td>\n",
       "      <td>20.973483</td>\n",
       "      <td>RB</td>\n",
       "      <td>RB</td>\n",
       "      <td>1</td>\n",
       "      <td>{RB}</td>\n",
       "      <td>1</td>\n",
       "      <td>{RB}</td>\n",
       "      <td>0</td>\n",
       "      <td>abhorringli</td>\n",
       "      <td>abhor</td>\n",
       "      <td>abhor</td>\n",
       "    </tr>\n",
       "    <tr>\n",
       "      <th>abjectly</th>\n",
       "      <td>2</td>\n",
       "      <td>8</td>\n",
       "      <td>9.713651e-07</td>\n",
       "      <td>19.973483</td>\n",
       "      <td>RB</td>\n",
       "      <td>RB</td>\n",
       "      <td>1</td>\n",
       "      <td>{RB}</td>\n",
       "      <td>1</td>\n",
       "      <td>{RB}</td>\n",
       "      <td>0</td>\n",
       "      <td>abjectli</td>\n",
       "      <td>abject</td>\n",
       "      <td>abject</td>\n",
       "    </tr>\n",
       "    <tr>\n",
       "      <th>abjectus</th>\n",
       "      <td>1</td>\n",
       "      <td>8</td>\n",
       "      <td>4.856826e-07</td>\n",
       "      <td>20.973483</td>\n",
       "      <td>NNP</td>\n",
       "      <td>NN</td>\n",
       "      <td>1</td>\n",
       "      <td>{NN}</td>\n",
       "      <td>1</td>\n",
       "      <td>{NNP}</td>\n",
       "      <td>0</td>\n",
       "      <td>abjectu</td>\n",
       "      <td>abjectus</td>\n",
       "      <td>abject</td>\n",
       "    </tr>\n",
       "    <tr>\n",
       "      <th>aboundingly</th>\n",
       "      <td>1</td>\n",
       "      <td>11</td>\n",
       "      <td>4.856826e-07</td>\n",
       "      <td>20.973483</td>\n",
       "      <td>RB</td>\n",
       "      <td>RB</td>\n",
       "      <td>1</td>\n",
       "      <td>{RB}</td>\n",
       "      <td>1</td>\n",
       "      <td>{RB}</td>\n",
       "      <td>0</td>\n",
       "      <td>aboundingli</td>\n",
       "      <td>abound</td>\n",
       "      <td>abound</td>\n",
       "    </tr>\n",
       "    <tr>\n",
       "      <th>...</th>\n",
       "      <td>...</td>\n",
       "      <td>...</td>\n",
       "      <td>...</td>\n",
       "      <td>...</td>\n",
       "      <td>...</td>\n",
       "      <td>...</td>\n",
       "      <td>...</td>\n",
       "      <td>...</td>\n",
       "      <td>...</td>\n",
       "      <td>...</td>\n",
       "      <td>...</td>\n",
       "      <td>...</td>\n",
       "      <td>...</td>\n",
       "      <td>...</td>\n",
       "    </tr>\n",
       "    <tr>\n",
       "      <th>yes</th>\n",
       "      <td>945</td>\n",
       "      <td>3</td>\n",
       "      <td>4.589700e-04</td>\n",
       "      <td>11.089312</td>\n",
       "      <td>NN</td>\n",
       "      <td>NN</td>\n",
       "      <td>12</td>\n",
       "      <td>{JJ, CC, IN, RB, RP, PR, VB, NN, CD, PO, UH, FW}</td>\n",
       "      <td>20</td>\n",
       "      <td>{VBZ, PRP$, PRP, CC, NNS, CD, RB, RP, VB, POS,...</td>\n",
       "      <td>0</td>\n",
       "      <td>ye</td>\n",
       "      <td>yes</td>\n",
       "      <td>ye</td>\n",
       "    </tr>\n",
       "    <tr>\n",
       "      <th>yous</th>\n",
       "      <td>1</td>\n",
       "      <td>4</td>\n",
       "      <td>4.856826e-07</td>\n",
       "      <td>20.973483</td>\n",
       "      <td>NN</td>\n",
       "      <td>NN</td>\n",
       "      <td>1</td>\n",
       "      <td>{NN}</td>\n",
       "      <td>1</td>\n",
       "      <td>{NN}</td>\n",
       "      <td>0</td>\n",
       "      <td>you</td>\n",
       "      <td>yous</td>\n",
       "      <td>yo</td>\n",
       "    </tr>\n",
       "    <tr>\n",
       "      <th>yrs</th>\n",
       "      <td>4</td>\n",
       "      <td>3</td>\n",
       "      <td>1.942730e-06</td>\n",
       "      <td>18.973483</td>\n",
       "      <td>NNP</td>\n",
       "      <td>NN</td>\n",
       "      <td>1</td>\n",
       "      <td>{NN}</td>\n",
       "      <td>2</td>\n",
       "      <td>{NNP, NN}</td>\n",
       "      <td>0</td>\n",
       "      <td>yr</td>\n",
       "      <td>yrs</td>\n",
       "      <td>yr</td>\n",
       "    </tr>\n",
       "    <tr>\n",
       "      <th>zadockprattsville</th>\n",
       "      <td>2</td>\n",
       "      <td>17</td>\n",
       "      <td>9.713651e-07</td>\n",
       "      <td>19.973483</td>\n",
       "      <td>NN</td>\n",
       "      <td>NN</td>\n",
       "      <td>1</td>\n",
       "      <td>{NN}</td>\n",
       "      <td>2</td>\n",
       "      <td>{NNP, NN}</td>\n",
       "      <td>0</td>\n",
       "      <td>zadockprattsvil</td>\n",
       "      <td>zadockprattsvill</td>\n",
       "      <td>zadockprattsvil</td>\n",
       "    </tr>\n",
       "    <tr>\n",
       "      <th>zealous</th>\n",
       "      <td>12</td>\n",
       "      <td>7</td>\n",
       "      <td>5.828191e-06</td>\n",
       "      <td>17.388520</td>\n",
       "      <td>JJ</td>\n",
       "      <td>JJ</td>\n",
       "      <td>1</td>\n",
       "      <td>{JJ}</td>\n",
       "      <td>1</td>\n",
       "      <td>{JJ}</td>\n",
       "      <td>0</td>\n",
       "      <td>zealou</td>\n",
       "      <td>zealous</td>\n",
       "      <td>zeal</td>\n",
       "    </tr>\n",
       "  </tbody>\n",
       "</table>\n",
       "<p>1259 rows × 14 columns</p>\n",
       "</div>"
      ],
      "text/plain": [
       "                     n  n_chars  ...     stem_snowball   stem_lancaster\n",
       "term_str                         ...                                   \n",
       "abandonedly          2       11  ...           abandon          abandon\n",
       "abhorringly          1       11  ...             abhor            abhor\n",
       "abjectly             2        8  ...            abject           abject\n",
       "abjectus             1        8  ...          abjectus           abject\n",
       "aboundingly          1       11  ...            abound           abound\n",
       "...                ...      ...  ...               ...              ...\n",
       "yes                945        3  ...               yes               ye\n",
       "yous                 1        4  ...              yous               yo\n",
       "yrs                  4        3  ...               yrs               yr\n",
       "zadockprattsville    2       17  ...  zadockprattsvill  zadockprattsvil\n",
       "zealous             12        7  ...           zealous             zeal\n",
       "\n",
       "[1259 rows x 14 columns]"
      ]
     },
     "execution_count": 56,
     "metadata": {},
     "output_type": "execute_result"
    }
   ],
   "source": [
    "VOCAB[VOCAB.stem_porter != VOCAB.stem_snowball]"
   ]
  },
  {
   "attachments": {},
   "cell_type": "markdown",
   "metadata": {},
   "source": [
    "# Save"
   ]
  },
  {
   "cell_type": "code",
   "execution_count": 57,
   "metadata": {},
   "outputs": [],
   "source": [
    "out_path = f'{output_dir}/{data_prefix}'"
   ]
  },
  {
   "cell_type": "code",
   "execution_count": 58,
   "metadata": {
    "tags": []
   },
   "outputs": [],
   "source": [
    "LIB.to_csv(f'{out_path}-LIB.csv')\n",
    "VOCAB.to_csv(f'{out_path}-VOCAB.csv')\n",
    "CORPUS.to_csv(f'{out_path}-CORPUS.csv')"
   ]
  }
 ],
 "metadata": {
  "colab": {
   "collapsed_sections": [],
   "name": "DS5559_Annotations.ipynb",
   "provenance": [],
   "toc_visible": true,
   "version": "0.3.2"
  },
  "kernelspec": {
   "display_name": "base",
   "language": "python",
   "name": "python3"
  },
  "language_info": {
   "codemirror_mode": {
    "name": "ipython",
    "version": 3
   },
   "file_extension": ".py",
   "mimetype": "text/x-python",
   "name": "python",
   "nbconvert_exporter": "python",
   "pygments_lexer": "ipython3",
   "version": "3.9.12"
  },
  "latex_envs": {
   "LaTeX_envs_menu_present": true,
   "autoclose": false,
   "autocomplete": true,
   "bibliofile": "biblio.bib",
   "cite_by": "apalike",
   "current_citInitial": 1,
   "eqLabelWithNumbers": true,
   "eqNumInitial": 1,
   "hotkeys": {
    "equation": "Ctrl-E",
    "itemize": "Ctrl-I"
   },
   "labels_anchors": false,
   "latex_user_defs": false,
   "report_style_numbering": false,
   "user_envs_cfg": false
  },
  "toc": {
   "base_numbering": 1,
   "nav_menu": {},
   "number_sections": true,
   "sideBar": true,
   "skip_h1_title": true,
   "title_cell": "Table of Contents",
   "title_sidebar": "Contents",
   "toc_cell": false,
   "toc_position": {},
   "toc_section_display": true,
   "toc_window_display": true
  },
  "varInspector": {
   "cols": {
    "lenName": 16,
    "lenType": 16,
    "lenVar": 40
   },
   "kernels_config": {
    "python": {
     "delete_cmd_postfix": "",
     "delete_cmd_prefix": "del ",
     "library": "var_list.py",
     "varRefreshCmd": "print(var_dic_list())"
    },
    "r": {
     "delete_cmd_postfix": ") ",
     "delete_cmd_prefix": "rm(",
     "library": "var_list.r",
     "varRefreshCmd": "cat(var_dic_list()) "
    }
   },
   "types_to_exclude": [
    "module",
    "function",
    "builtin_function_or_method",
    "instance",
    "_Feature"
   ],
   "window_display": false
  },
  "widgets": {
   "application/vnd.jupyter.widget-state+json": {
    "state": {},
    "version_major": 2,
    "version_minor": 0
   }
  }
 },
 "nbformat": 4,
 "nbformat_minor": 4
}
